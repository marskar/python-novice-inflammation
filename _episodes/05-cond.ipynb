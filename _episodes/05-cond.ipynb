{
 "cells": [
  {
   "cell_type": "markdown",
   "metadata": {},
   "source": [
    "---\n",
    "title: Making Choices\n",
    "teaching: 30\n",
    "exercises: 0\n",
    "questions:\n",
    "- \"How can my programs do different things based on data values?\"\n",
    "objectives:\n",
    "- \"Write conditional statements including `if`, `elif`, and `else` branches.\"\n",
    "- \"Correctly evaluate expressions containing `and` and `or`.\"\n",
    "keypoints:\n",
    "- \"Use `if condition` to start a conditional statement, `elif condition` to provide additional tests, and `else` to provide a default.\"\n",
    "- \"The bodies of the branches of conditional statements must be indented.\"\n",
    "- \"Use `==` to test for equality.\"\n",
    "- \"`X and Y` is only true if both X and Y are true.\"\n",
    "- \"`X or Y` is true if either X or Y, or both, are true.\"\n",
    "- \"Zero, the empty string, and the empty list are considered false; all other numbers, strings, and lists are considered true.\"\n",
    "- \"Nest loops to operate on multi-dimensional data.\"\n",
    "- \"Put code whose parameters change frequently in a function, then call it with different parameter values to customize its behavior.\"\n",
    "---\n",
    "\n",
    "In our last lesson, we discovered something suspicious was going on\n",
    "in our inflammation data by drawing some plots.\n",
    "How can we use Python to automatically recognize the different features we saw,\n",
    "and take a different action for each? In this lesson, we'll learn how to write code that\n",
    "runs only when certain conditions are true.\n",
    "\n",
    "## Conditionals\n",
    "\n",
    "We can ask Python to take different actions, depending on a condition, with an `if` statement:"
   ]
  },
  {
   "cell_type": "code",
   "execution_count": null,
   "metadata": {},
   "outputs": [],
   "source": [
    "num = 37\n",
    "if num > 100:\n",
    "    print('greater')\n",
    "else:\n",
    "    print('not greater')\n",
    "print('done')"
   ]
  },
  {
   "cell_type": "markdown",
   "metadata": {},
   "source": [
    "{: .python}"
   ]
  },
  {
   "cell_type": "code",
   "execution_count": null,
   "metadata": {},
   "outputs": [],
   "source": [
    "not greater\n",
    "done"
   ]
  },
  {
   "cell_type": "markdown",
   "metadata": {},
   "source": [
    "{: .output}\n",
    "\n",
    "The second line of this code uses the keyword `if` to tell Python that we want to make a choice.\n",
    "If the test that follows the `if` statement is true,\n",
    "the body of the `if`\n",
    "(i.e., the lines indented underneath it) are executed.\n",
    "If the test is false,\n",
    "the body of the `else` is executed instead.\n",
    "Only one or the other is ever executed:\n",
    "\n",
    "![Executing a Conditional](../fig/python-flowchart-conditional.png)\n",
    "\n",
    "Conditional statements don't have to include an `else`.\n",
    "If there isn't one,\n",
    "Python simply does nothing if the test is false:"
   ]
  },
  {
   "cell_type": "code",
   "execution_count": null,
   "metadata": {},
   "outputs": [],
   "source": [
    "num = 53\n",
    "print('before conditional...')\n",
    "if num > 100:\n",
    "    print('53 is greater than 100')\n",
    "print('...after conditional')"
   ]
  },
  {
   "cell_type": "markdown",
   "metadata": {},
   "source": [
    "{: .python}"
   ]
  },
  {
   "cell_type": "code",
   "execution_count": null,
   "metadata": {},
   "outputs": [],
   "source": [
    "before conditional...\n",
    "...after conditional"
   ]
  },
  {
   "cell_type": "markdown",
   "metadata": {},
   "source": [
    "{: .output}\n",
    "\n",
    "We can also chain several tests together using `elif`,\n",
    "which is short for \"else if\".\n",
    "The following Python code uses `elif` to print the sign of a number."
   ]
  },
  {
   "cell_type": "code",
   "execution_count": null,
   "metadata": {},
   "outputs": [],
   "source": [
    "num = -3\n",
    "\n",
    "if num > 0:\n",
    "    print(num, \"is positive\")\n",
    "elif num == 0:\n",
    "    print(num, \"is zero\")\n",
    "else:\n",
    "    print(num, \"is negative\")"
   ]
  },
  {
   "cell_type": "markdown",
   "metadata": {},
   "source": [
    "{: .python}"
   ]
  },
  {
   "cell_type": "code",
   "execution_count": null,
   "metadata": {},
   "outputs": [],
   "source": [
    "\"-3 is negative\""
   ]
  },
  {
   "cell_type": "markdown",
   "metadata": {},
   "source": [
    "{: .output}\n",
    "\n",
    "One important thing to notice in the code above is that we use a double equals sign `==` to test for equality\n",
    "rather than a single equals sign\n",
    "because the latter is used to mean assignment.\n",
    "\n",
    "We can also combine tests using `and` and `or`.\n",
    "`and` is only true if both parts are true:"
   ]
  },
  {
   "cell_type": "code",
   "execution_count": null,
   "metadata": {},
   "outputs": [],
   "source": [
    "if (1 > 0) and (-1 > 0):\n",
    "    print('both parts are true')\n",
    "else:\n",
    "    print('at least one part is false')"
   ]
  },
  {
   "cell_type": "markdown",
   "metadata": {},
   "source": [
    "{: .python}"
   ]
  },
  {
   "cell_type": "code",
   "execution_count": null,
   "metadata": {},
   "outputs": [],
   "source": [
    "at least one part is false"
   ]
  },
  {
   "cell_type": "markdown",
   "metadata": {},
   "source": [
    "{: .output}\n",
    "\n",
    "while `or` is true if at least one part is true:"
   ]
  },
  {
   "cell_type": "code",
   "execution_count": null,
   "metadata": {},
   "outputs": [],
   "source": [
    "if (1 < 0) or (-1 < 0):\n",
    "    print('at least one test is true')"
   ]
  },
  {
   "cell_type": "markdown",
   "metadata": {},
   "source": [
    "{: .python}"
   ]
  },
  {
   "cell_type": "code",
   "execution_count": null,
   "metadata": {},
   "outputs": [],
   "source": [
    "at least one test is true"
   ]
  },
  {
   "cell_type": "markdown",
   "metadata": {},
   "source": [
    "{: .output}\n",
    "\n",
    "## Checking our Data\n",
    "\n",
    "Now that we've seen how conditionals work,\n",
    "we can use them to check for the suspicious features we saw in our inflammation data.\n",
    "In the first couple of plots, the maximum inflammation per day\n",
    "seemed to rise like a straight line, one unit per day.\n",
    "We can check for this inside the `for` loop we wrote with the following conditional:"
   ]
  },
  {
   "cell_type": "code",
   "execution_count": null,
   "metadata": {},
   "outputs": [],
   "source": [
    "if numpy.max(data, axis=0)[0] == 0 and numpy.max(data, axis=0)[20] == 20:\n",
    "    print('Suspicious looking maxima!')"
   ]
  },
  {
   "cell_type": "markdown",
   "metadata": {},
   "source": [
    "{: .python}\n",
    "\n",
    "We also saw a different problem in the third dataset;\n",
    "the minima per day were all zero (looks like a healthy person snuck into our study).\n",
    "We can also check for this with an `elif` condition:"
   ]
  },
  {
   "cell_type": "code",
   "execution_count": null,
   "metadata": {},
   "outputs": [],
   "source": [
    "elif numpy.sum(numpy.min(data, axis=0)) == 0:\n",
    "    print('Minima add up to zero!')"
   ]
  },
  {
   "cell_type": "markdown",
   "metadata": {},
   "source": [
    "{: .python}\n",
    "\n",
    "And if neither of these conditions are true, we can use `else` to give the all-clear:"
   ]
  },
  {
   "cell_type": "code",
   "execution_count": null,
   "metadata": {},
   "outputs": [],
   "source": [
    "else:\n",
    "    print('Seems OK!')"
   ]
  },
  {
   "cell_type": "markdown",
   "metadata": {},
   "source": [
    "{: .python}\n",
    "\n",
    "Let's test that out:"
   ]
  },
  {
   "cell_type": "code",
   "execution_count": null,
   "metadata": {},
   "outputs": [],
   "source": [
    "data = numpy.loadtxt(fname='inflammation-01.csv', delimiter=',')\n",
    "if numpy.max(data, axis=0)[0] == 0 and numpy.max(data, axis=0)[20] == 20:\n",
    "    print('Suspicious looking maxima!')\n",
    "elif numpy.sum(numpy.min(data, axis=0)) == 0:\n",
    "    print('Minima add up to zero!')\n",
    "else:\n",
    "    print('Seems OK!')"
   ]
  },
  {
   "cell_type": "markdown",
   "metadata": {},
   "source": [
    "{: .python}"
   ]
  },
  {
   "cell_type": "code",
   "execution_count": null,
   "metadata": {},
   "outputs": [],
   "source": [
    "Suspicious looking maxima!"
   ]
  },
  {
   "cell_type": "markdown",
   "metadata": {},
   "source": [
    "{: .output}"
   ]
  },
  {
   "cell_type": "code",
   "execution_count": null,
   "metadata": {},
   "outputs": [],
   "source": [
    "data = numpy.loadtxt(fname='inflammation-03.csv', delimiter=',')\n",
    "if numpy.max(data, axis=0)[0] == 0 and numpy.max(data, axis=0)[20] == 20:\n",
    "    print('Suspicious looking maxima!')\n",
    "elif numpy.sum(numpy.min(data, axis=0)) == 0:\n",
    "    print('Minima add up to zero!')\n",
    "else:\n",
    "    print('Seems OK!')"
   ]
  },
  {
   "cell_type": "markdown",
   "metadata": {},
   "source": [
    "{: .python}"
   ]
  },
  {
   "cell_type": "code",
   "execution_count": null,
   "metadata": {},
   "outputs": [],
   "source": [
    "Minima add up to zero!"
   ]
  },
  {
   "cell_type": "markdown",
   "metadata": {},
   "source": [
    "{: .output}\n",
    "\n",
    "In this way,\n",
    "we have asked Python to do something different depending on the condition of our data.\n",
    "Here we printed messages in all cases,\n",
    "but we could also imagine not using the `else` catch-all\n",
    "so that messages are only printed when something is wrong,\n",
    "freeing us from having to manually examine every plot for features we've seen before.\n",
    "\n",
    "> ## How Many Paths?\n",
    ">\n",
    "> Which of the following would be printed if you were to run this code?\n",
    "> Why did you pick this answer?\n",
    ">\n",
    "> 1.  A\n",
    "> 2.  B\n",
    "> 3.  C\n",
    "> 4.  B and C\n",
    ">\n",
    "> ~~~\n",
    "> if 4 > 5:\n",
    ">     print('A')\n",
    "> elif 4 == 5:\n",
    ">     print('B')\n",
    "> elif 4 < 5:\n",
    ">     print('C')\n",
    "> ~~~\n",
    "> {: .python}\n",
    ">\n",
    "> > ## Solution\n",
    "> > C gets printed because the first two conditions, `4 > 5` and `4 == 5`, are not true,\n",
    "> > but `4 < 5` is true.\n",
    "> {: .solution}\n",
    "{: .challenge}\n",
    "\n",
    "> ## What Is Truth?\n",
    ">\n",
    "> `True` and `False` are special words in Python called `booleans`\n",
    "> which represent true and false statements.\n",
    "> However, they aren't the only values in Python that are true and false.\n",
    "> In fact, *any* value can be used in an `if` or `elif`.\n",
    "> After reading and running the code below,\n",
    "> explain what the rule is for which values are considered true and which are considered false.\n",
    ">\n",
    "> ~~~\n",
    "> if '':\n",
    ">     print('empty string is true')\n",
    "> if 'word':\n",
    ">     print('word is true')\n",
    "> if []:\n",
    ">     print('empty list is true')\n",
    "> if [1, 2, 3]:\n",
    ">     print('non-empty list is true')\n",
    "> if 0:\n",
    ">     print('zero is true')\n",
    "> if 1:\n",
    ">     print('one is true')\n",
    "> ~~~\n",
    "> {: .python}\n",
    "{: .challenge}\n",
    "\n",
    "> ## That's Not Not What I Meant\n",
    ">\n",
    "> Sometimes it is useful to check whether some condition is not true.\n",
    "> The Boolean operator `not` can do this explicitly.\n",
    "> After reading and running the code below,\n",
    "> write some `if` statements that use `not` to test the rule\n",
    "> that you formulated in the previous challenge.\n",
    ">\n",
    "> ~~~\n",
    "> if not '':\n",
    ">     print('empty string is not true')\n",
    "> if not 'word':\n",
    ">     print('word is not true')\n",
    "> if not not True:\n",
    ">     print('not not True is true')\n",
    "> ~~~\n",
    "> {: .python}\n",
    "{: .challenge}\n",
    "\n",
    "> ## Close Enough\n",
    ">\n",
    "> Write some conditions that print `True` if the variable `a` is within 10% of the variable `b`\n",
    "> and `False` otherwise.\n",
    "> Compare your implementation with your partner's:\n",
    "> do you get the same answer for all possible pairs of numbers?\n",
    ">\n",
    "> > ## Solution 1\n",
    "> > ~~~\n",
    "> > a = 5\n",
    "> > b = 5.1\n",
    "> >\n",
    "> > if abs(a - b) < 0.1 * abs(b):\n",
    "> >     print('True')\n",
    "> > else:\n",
    "> >     print('False')\n",
    "> > ~~~\n",
    "> > {: .python}\n",
    "> {: .solution}\n",
    ">\n",
    "> > ## Solution 2\n",
    "> > ~~~\n",
    "> > print(abs(a - b) < 0.1 * abs(b))\n",
    "> > ~~~\n",
    "> > {: .python}\n",
    "> >\n",
    "> > This works because the Booleans `True` and `False`\n",
    "> > have string representations which can be printed.\n",
    "> {: .solution}\n",
    "{: .challenge}\n",
    "\n",
    "> ## In-Place Operators\n",
    ">\n",
    "> Python (and most other languages in the C family) provides [in-place operators]({{ page.root }}/reference/#in-place-operators)\n",
    "> that work like this:\n",
    ">\n",
    "> ~~~\n",
    "> x = 1  # original value\n",
    "> x += 1 # add one to x, assigning result back to x\n",
    "> x *= 3 # multiply x by 3\n",
    "> print(x)\n",
    "> ~~~\n",
    "> {: .python}\n",
    ">\n",
    "> ~~~\n",
    "> 6\n",
    "> ~~~\n",
    "> {: .output}\n",
    ">\n",
    "> Write some code that sums the positive and negative numbers in a list separately,\n",
    "> using in-place operators.\n",
    "> Do you think the result is more or less readable than writing the same without in-place operators?\n",
    ">\n",
    "> > ## Solution\n",
    "> > ~~~\n",
    "> > positive_sum = 0\n",
    "> > negative_sum = 0\n",
    "> > test_list = [3, 4, 6, 1, -1, -5, 0, 7, -8]\n",
    "> > for num in test_list:\n",
    "> >     if num > 0:\n",
    "> >         positive_sum += num\n",
    "> >     elif num == 0:\n",
    "> >         pass\n",
    "> >     else:\n",
    "> >         negative_sum += num\n",
    "> > print(positive_sum, negative_sum)\n",
    "> > ~~~\n",
    "> > {: .python}\n",
    "> >\n",
    "> > Here `pass` means \"don't do anything\".\n",
    "> In this particular case, it's not actually needed, since if `num == 0` neither\n",
    "> > sum needs to change, but it illustrates the use of `elif`.\n",
    "> {: .solution}\n",
    "{: .challenge}\n",
    "\n",
    "> ## Sorting a List Into Buckets\n",
    ">\n",
    "> The folder containing our data files has large data sets whose names start with\n",
    "> \"inflammation-\", small ones whose names with \"small-\", and possibly other files\n",
    "> whose sizes we don't know.  Our goal is to sort those files into three lists\n",
    "> called `large_files`, `small_files`, and `other_files` respectively.  Add code\n",
    "> to the template below to do this.  Note that the string method\n",
    "> [`startswith`](https://docs.python.org/3.5/library/stdtypes.html#str.startswith)\n",
    "> returns `True` if and only if the string it is called on starts with the string\n",
    "> passed as an argument.\n",
    ">\n",
    "> ~~~\n",
    "> files = ['inflammation-01.csv', 'myscript.py', 'inflammation-02.csv', 'small-01.csv', 'small-02.csv']\n",
    "> large_files = []\n",
    "> small_files = []\n",
    "> other_files = []\n",
    "> ~~~\n",
    "> {: .python}\n",
    ">\n",
    "> Your solution should:\n",
    ">\n",
    "> 1.  loop over the names of the files\n",
    "> 2.  figure out which group each filename belongs\n",
    "> 3.  append the filename to that list\n",
    ">\n",
    "> In the end the three lists should be:\n",
    ">\n",
    "> ~~~\n",
    "> large_files = ['inflammation-01.csv', 'inflammation-02.csv']\n",
    "> small_files = ['small-01.csv', 'small-02.csv']\n",
    "> other_files = ['myscript.py']\n",
    "> ~~~\n",
    "> {: .python}\n",
    ">\n",
    "> > ## Solution\n",
    "> > ~~~\n",
    "> > for file in files:\n",
    "> >     if 'inflammation-' in file:\n",
    "> >         large_files.append(file)\n",
    "> >     elif 'small-' in file:\n",
    "> >         small_files.append(file)\n",
    "> >     else:\n",
    "> >         other_files.append(file)\n",
    "> >         \n",
    "> > print(large_files)\n",
    "> > print(small_files)\n",
    "> > print(other_files)\n",
    "> > ~~~\n",
    "> > {: .python}\n",
    "> {: .solution}\n",
    "{: .challenge}\n",
    "\n",
    "> ## Counting Vowels\n",
    ">\n",
    "> 1.  Write a loop that counts the number of vowels in a character string.\n",
    "> 2. Test it on a few individual words and full sentences.\n",
    "> 3. Once you are done, compare your solution to your neighbor's.\n",
    ">    Did you make the same decisions about how to handle the letter 'y'\n",
    ">    (which some people think is a vowel, and some do not)?\n",
    ">\n",
    "> > ## Solution\n",
    "> > ~~~\n",
    "> > vowels = 'aeiouAEIOU'\n",
    "> > sentence = 'Mary had a little lamb.'\n",
    "> > count = 0\n",
    "> > for char in sentence:\n",
    "> >     if char in vowels:\n",
    "> >         count += 1\n",
    "> >         \n",
    "> > print(\"The number of vowels in this string is \" + str(count))\n",
    "> > ~~~\n",
    "> > {: .python}\n",
    "> {: .solution}\n",
    "{: .challenge}"
   ]
  }
 ],
 "metadata": {},
 "nbformat": 4,
 "nbformat_minor": 2
}
