{
 "cells": [
  {
   "cell_type": "markdown",
   "metadata": {},
   "source": [
    "---\n",
    "title: Analyzing Data from Multiple Files\n",
    "teaching: 20\n",
    "exercises: 0\n",
    "questions:\n",
    "- \"How can I do the same operations on many different files?\"\n",
    "objectives:\n",
    "- \"Use a library function to get a list of filenames that match a simple wildcard pattern.\"\n",
    "- \"Write a for loop to process multiple files.\"\n",
    "keypoints:\n",
    "- \"Use `glob.glob(pattern)` to create a list of files whose names match a pattern.\"\n",
    "- \"Use `*` in a pattern to match zero or more characters, and `?` to match any single character.\"\n",
    "---\n",
    "\n",
    "We now have almost everything we need to process all our data files.\n",
    "The only thing that's missing is a library with a rather unpleasant name:"
   ]
  },
  {
   "cell_type": "code",
   "execution_count": null,
   "metadata": {},
   "outputs": [],
   "source": [
    "import glob"
   ]
  },
  {
   "cell_type": "markdown",
   "metadata": {},
   "source": [
    "{: .python}\n",
    "\n",
    "The `glob` library contains a function, also called `glob`,\n",
    "that finds files and directories whose names match a pattern.\n",
    "We provide those patterns as strings:\n",
    "the character `*` matches zero or more characters,\n",
    "while `?` matches any one character.\n",
    "We can use this to get the names of all the CSV files in the current directory:"
   ]
  },
  {
   "cell_type": "code",
   "execution_count": null,
   "metadata": {},
   "outputs": [],
   "source": [
    "print(glob.glob('data/inflammation*.csv'))"
   ]
  },
  {
   "cell_type": "markdown",
   "metadata": {},
   "source": [
    "{: .python}"
   ]
  },
  {
   "cell_type": "code",
   "execution_count": null,
   "metadata": {},
   "outputs": [],
   "source": [
    "['data/inflammation-05.csv', 'data/inflammation-11.csv', 'data/inflammation-12.csv', 'data/inflammation-08.csv', 'data/inflammation-03.csv', 'data/inflammation-06.csv', 'data/inflammation-09.csv', 'data/inflammation-07.csv', 'data/inflammation-10.csv', 'data/inflammation-02.csv', 'data/inflammation-04.csv', 'data/inflammation-01.csv']"
   ]
  },
  {
   "cell_type": "markdown",
   "metadata": {},
   "source": [
    "{: .output}\n",
    "\n",
    "As these examples show,\n",
    "`glob.glob`'s result is a list of file and directory paths in arbitrary order.\n",
    "This means we can loop over it\n",
    "to do something with each filename in turn.\n",
    "In our case,\n",
    "the \"something\" we want to do is generate a set of plots for each file in our inflammation dataset.\n",
    "If we want to start by analyzing just the first three files in alphabetical order, we can use the `sorted` built-in function to generate a new sorted list from the `glob.glob` output:"
   ]
  },
  {
   "cell_type": "code",
   "execution_count": null,
   "metadata": {},
   "outputs": [],
   "source": [
    "import numpy\n",
    "import matplotlib.pyplot\n",
    "\n",
    "filenames = sorted(glob.glob('data/inflammation*.csv'))\n",
    "filenames = filenames[0:3]\n",
    "for f in filenames:\n",
    "    print(f)\n",
    "\n",
    "    data = numpy.loadtxt(fname=f, delimiter=',')\n",
    "\n",
    "    fig = matplotlib.pyplot.figure(figsize=(10.0, 3.0))\n",
    "\n",
    "    axes1 = fig.add_subplot(1, 3, 1)\n",
    "    axes2 = fig.add_subplot(1, 3, 2)\n",
    "    axes3 = fig.add_subplot(1, 3, 3)\n",
    "\n",
    "    axes1.set_ylabel('average')\n",
    "    axes1.plot(numpy.mean(data, axis=0))\n",
    "\n",
    "    axes2.set_ylabel('max')\n",
    "    axes2.plot(numpy.max(data, axis=0))\n",
    "\n",
    "    axes3.set_ylabel('min')\n",
    "    axes3.plot(numpy.min(data, axis=0))\n",
    "\n",
    "    fig.tight_layout()\n",
    "    matplotlib.pyplot.show()"
   ]
  },
  {
   "cell_type": "markdown",
   "metadata": {},
   "source": [
    "{: .python}"
   ]
  },
  {
   "cell_type": "code",
   "execution_count": null,
   "metadata": {},
   "outputs": [],
   "source": [
    "inflammation-01.csv"
   ]
  },
  {
   "cell_type": "markdown",
   "metadata": {},
   "source": [
    "{: .output}\n",
    "\n",
    "![Analysis of inflammation-01.csv](../fig/03-loop_49_1.png)"
   ]
  },
  {
   "cell_type": "code",
   "execution_count": null,
   "metadata": {},
   "outputs": [],
   "source": [
    "inflammation-02.csv"
   ]
  },
  {
   "cell_type": "markdown",
   "metadata": {},
   "source": [
    "{: .output}\n",
    "\n",
    "![Analysis of inflammation-02.csv](../fig/03-loop_49_3.png)"
   ]
  },
  {
   "cell_type": "code",
   "execution_count": null,
   "metadata": {},
   "outputs": [],
   "source": [
    "inflammation-03.csv"
   ]
  },
  {
   "cell_type": "markdown",
   "metadata": {},
   "source": [
    "{: .output}\n",
    "\n",
    "![Analysis of inflammation-03.csv](../fig/03-loop_49_5.png)\n",
    "\n",
    "Sure enough,\n",
    "the maxima of the first two data sets show exactly the same ramp as the first,\n",
    "and their minima show the same staircase structure;\n",
    "a different situation has been revealed in the third dataset,\n",
    "where the maxima are a bit less regular, but the minima are consistently zero.\n",
    "\n",
    "> ## Plotting Differences\n",
    ">\n",
    "> Plot the difference between the average of the first dataset\n",
    "> and the average of the second dataset,\n",
    "> i.e., the difference between the leftmost plot of the first two figures.\n",
    ">\n",
    "> > ## Solution\n",
    "> > ~~~\n",
    "> > import glob\n",
    "> > import numpy\n",
    "> > import matplotlib.pyplot\n",
    "> >\n",
    "> > filenames = glob.glob('data/inflammation*.csv')\n",
    "> >\n",
    "> > data0 = numpy.loadtxt(fname=filenames[0], delimiter=',')\n",
    "> > data1 = numpy.loadtxt(fname=filenames[1], delimiter=',')\n",
    "> >\n",
    "> > fig = matplotlib.pyplot.figure(figsize=(10.0, 3.0))\n",
    "> >\n",
    "> > matplotlib.pyplot.ylabel('Difference in average')\n",
    "> > matplotlib.pyplot.plot(data0.mean(axis=0) - data1.mean(axis=0))\n",
    "> >\n",
    "> > fig.tight_layout()\n",
    "> > matplotlib.pyplot.show()\n",
    "> > ~~~\n",
    "> > {: .python}\n",
    "> {: .solution}\n",
    "{: .challenge}\n",
    "\n",
    "> ## Generate Composite Statistics\n",
    ">\n",
    "> Use each of the files once to generate a dataset containing values averaged over all patients:\n",
    ">\n",
    "> ~~~\n",
    "> filenames = glob.glob('data/inflammation*.csv')\n",
    "> composite_data = numpy.zeros((60,40))\n",
    "> for f in filenames:\n",
    ">     # sum each new file's data into as it's read\n",
    "> # and then divide the composite_data by number of samples\n",
    "> composite_data /= len(filenames)\n",
    "> ~~~\n",
    "> {: .python}\n",
    ">\n",
    "> Then use pyplot to generate average, max, and min for all patients.\n",
    ">\n",
    "{: .challenge}"
   ]
  }
 ],
 "metadata": {},
 "nbformat": 4,
 "nbformat_minor": 2
}
