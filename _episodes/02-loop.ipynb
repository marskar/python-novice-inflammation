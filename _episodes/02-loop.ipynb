{
 "cells": [
  {
   "cell_type": "markdown",
   "metadata": {},
   "source": [
    "---\n",
    "title: Repeating Actions with Loops\n",
    "teaching: 30\n",
    "exercises: 0\n",
    "questions:\n",
    "- \"How can I do the same operations on many different values?\"\n",
    "objectives:\n",
    "- \"Explain what a for loop does.\"\n",
    "- \"Correctly write for loops to repeat simple calculations.\"\n",
    "- \"Trace changes to a loop variable as the loop runs.\"\n",
    "- \"Trace changes to other variables as they are updated by a for loop.\"\n",
    "keypoints:\n",
    "- \"Use `for variable in sequence` to process the elements of a sequence one at a time.\"\n",
    "- \"The body of a for loop must be indented.\"\n",
    "- \"Use `len(thing)` to determine the length of something that contains other values.\"\n",
    "---\n",
    "\n",
    "In the last lesson,\n",
    "we wrote some code that plots some values of interest from our first inflammation dataset,\n",
    "and reveals some suspicious features in it, such as from `inflammation-01.csv`\n",
    "\n",
    "![Analysis of inflammation-01.csv](../fig/03-loop_2_0.png)\n",
    "\n",
    "We have a dozen data sets right now, though, and more on the way.\n",
    "We want to create plots for all of our data sets with a single statement.\n",
    "To do that, we'll have to teach the computer how to repeat things.\n",
    "\n",
    "An example task that we might want to repeat is printing each character in a\n",
    "word on a line of its own."
   ]
  },
  {
   "cell_type": "code",
   "execution_count": null,
   "metadata": {},
   "outputs": [],
   "source": [
    "word = 'lead'"
   ]
  },
  {
   "cell_type": "markdown",
   "metadata": {},
   "source": [
    "{: .python}\n",
    "\n",
    "We can access a character in a string using its index. For example, we can get the first\n",
    "character of the word 'lead', by using word[0]. One way to print each character is to use\n",
    "four `print` statements:"
   ]
  },
  {
   "cell_type": "code",
   "execution_count": null,
   "metadata": {},
   "outputs": [],
   "source": [
    "print(word[0])\n",
    "print(word[1])\n",
    "print(word[2])\n",
    "print(word[3])"
   ]
  },
  {
   "cell_type": "markdown",
   "metadata": {},
   "source": [
    "{: .python}"
   ]
  },
  {
   "cell_type": "code",
   "execution_count": null,
   "metadata": {},
   "outputs": [],
   "source": [
    "l\n",
    "e\n",
    "a\n",
    "d"
   ]
  },
  {
   "cell_type": "markdown",
   "metadata": {},
   "source": [
    "{: .output}\n",
    "\n",
    "This is a bad approach for two reasons:\n",
    "\n",
    "1.  It doesn't scale:\n",
    "    if we want to print the characters in a string that's hundreds of letters long,\n",
    "    we'd be better off just typing them in.\n",
    "\n",
    "1.  It's fragile:\n",
    "    if we give it a longer string,\n",
    "    it only prints part of the data,\n",
    "    and if we give it a shorter one,\n",
    "    it produces an error because we're asking for characters that don't exist."
   ]
  },
  {
   "cell_type": "code",
   "execution_count": null,
   "metadata": {},
   "outputs": [],
   "source": [
    "word = 'tin'\n",
    "print(word[0])\n",
    "print(word[1])\n",
    "print(word[2])\n",
    "print(word[3])\n"
   ]
  },
  {
   "cell_type": "markdown",
   "metadata": {},
   "source": [
    "{: .python}"
   ]
  },
  {
   "cell_type": "code",
   "execution_count": null,
   "metadata": {},
   "outputs": [],
   "source": [
    "t\n",
    "i\n",
    "n"
   ]
  },
  {
   "cell_type": "markdown",
   "metadata": {},
   "source": [
    "{: .output}"
   ]
  },
  {
   "cell_type": "code",
   "execution_count": null,
   "metadata": {},
   "outputs": [],
   "source": [
    "---------------------------------------------------------------------------\n",
    "IndexError                                Traceback (most recent call last)\n",
    "<ipython-input-3-7974b6cdaf14> in <module>()\n",
    "      3 print(word[1])\n",
    "      4 print(word[2])\n",
    "----> 5 print(word[3])\n",
    "\n",
    "IndexError: string index out of range"
   ]
  },
  {
   "cell_type": "markdown",
   "metadata": {},
   "source": [
    "{: .error}\n",
    "\n",
    "Here's a better approach:"
   ]
  },
  {
   "cell_type": "code",
   "execution_count": null,
   "metadata": {},
   "outputs": [],
   "source": [
    "word = 'lead'\n",
    "for char in word:\n",
    "    print(char)\n"
   ]
  },
  {
   "cell_type": "markdown",
   "metadata": {},
   "source": [
    "{: .python}"
   ]
  },
  {
   "cell_type": "code",
   "execution_count": null,
   "metadata": {},
   "outputs": [],
   "source": [
    "l\n",
    "e\n",
    "a\n",
    "d"
   ]
  },
  {
   "cell_type": "markdown",
   "metadata": {},
   "source": [
    "{: .output}\n",
    "\n",
    "This is shorter---certainly shorter than something that prints every character in a hundred-letter string---and\n",
    "more robust as well:"
   ]
  },
  {
   "cell_type": "code",
   "execution_count": null,
   "metadata": {},
   "outputs": [],
   "source": [
    "word = 'oxygen'\n",
    "for char in word:\n",
    "    print(char)"
   ]
  },
  {
   "cell_type": "markdown",
   "metadata": {},
   "source": [
    "{: .python}"
   ]
  },
  {
   "cell_type": "code",
   "execution_count": null,
   "metadata": {},
   "outputs": [],
   "source": [
    "o\n",
    "x\n",
    "y\n",
    "g\n",
    "e\n",
    "n"
   ]
  },
  {
   "cell_type": "markdown",
   "metadata": {},
   "source": [
    "{: .output}\n",
    "\n",
    "The improved version uses a [for loop]({{ page.root }}/reference/#for-loop)\n",
    "to repeat an operation---in this case, printing---once for each thing in a sequence.\n",
    "The general form of a loop is:"
   ]
  },
  {
   "cell_type": "code",
   "execution_count": null,
   "metadata": {},
   "outputs": [],
   "source": [
    "for element in variable:\n",
    "    do things with element"
   ]
  },
  {
   "cell_type": "markdown",
   "metadata": {},
   "source": [
    "{: .python}\n",
    "\n",
    "Using the oxygen example above, the loop might look like this:\n",
    "\n",
    "![loop_image](../fig/loops_image.png)\n",
    "\n",
    "where each character (`char`) in the variable `word` is looped through and printed one character after another.\n",
    "The numbers in the diagram denote which loop cycle the character was printed in (1 being the first loop, and 6 being the final loop).\n",
    "\n",
    "We can call the [loop variable]({{ page.root }}/reference/#loop-variable) anything we like,\n",
    "but there must be a colon at the end of the line starting the loop,\n",
    "and we must indent anything we want to run inside the loop. Unlike many other languages, there is no\n",
    "command to signify the end of the loop body (e.g. end for); what is indented after the for statement belongs to the loop.\n",
    "\n",
    "\n",
    "> ## What's in a name?\n",
    ">\n",
    "> In the example above, the loop variable was given the name `char`\n",
    "> as a mnemonic; it is short for 'character'.\n",
    "> 'Char' is not a keyword in Python that pulls the characters\n",
    "> from words or strings.\n",
    "> In fact when a similar loop is run over a list rather than a word,\n",
    "> the output would be each member of that list printed in order,\n",
    "> rather than the characters.\n",
    ">\n",
    "> ~~~\n",
    "> list = ['oxygen','nitrogen','argon']\n",
    "> for char in list:\n",
    ">    print(char)\n",
    "> ~~~\n",
    "> {: .python}\n",
    ">\n",
    "> ~~~\n",
    "> oxygen\n",
    "> nitrogen\n",
    "> argon\n",
    "> ~~~\n",
    "> {: .output}\n",
    ">\n",
    "> We can choose any name we want for variables.\n",
    "> We might just as easily have chosen the name `banana`\n",
    "> for the loop variable,\n",
    "> as long as we use the same name when we invoke the variable inside the loop:\n",
    ">\n",
    "> ~~~\n",
    "> word = 'oxygen'\n",
    "> for banana in word:\n",
    ">     print(banana)\n",
    "> ~~~\n",
    "> {: .python}\n",
    ">\n",
    "> ~~~\n",
    "> o\n",
    "> x\n",
    "> y\n",
    "> g\n",
    "> e\n",
    "> n\n",
    "> ~~~\n",
    "> {: .output}\n",
    ">\n",
    "> It is a good idea to choose variable names\n",
    "> that are meaningful so that it is easier\n",
    "> to understand what the loop is doing.\n",
    "{: .callout}\n",
    "\n",
    "Here's another loop that repeatedly updates a variable:"
   ]
  },
  {
   "cell_type": "code",
   "execution_count": null,
   "metadata": {},
   "outputs": [],
   "source": [
    "length = 0\n",
    "for vowel in 'aeiou':\n",
    "    length = length + 1\n",
    "print('There are', length, 'vowels')"
   ]
  },
  {
   "cell_type": "markdown",
   "metadata": {},
   "source": [
    "{: .python}"
   ]
  },
  {
   "cell_type": "code",
   "execution_count": null,
   "metadata": {},
   "outputs": [],
   "source": [
    "There are 5 vowels"
   ]
  },
  {
   "cell_type": "markdown",
   "metadata": {},
   "source": [
    "{: .output}\n",
    "\n",
    "It's worth tracing the execution of this little program step by step.\n",
    "Since there are five characters in `'aeiou'`,\n",
    "the statement on line 3 will be executed five times.\n",
    "The first time around,\n",
    "`length` is zero (the value assigned to it on line 1)\n",
    "and `vowel` is `'a'`.\n",
    "The statement adds 1 to the old value of `length`,\n",
    "producing 1,\n",
    "and updates `length` to refer to that new value.\n",
    "The next time around,\n",
    "`vowel` is `'e'` and `length` is 1,\n",
    "so `length` is updated to be 2.\n",
    "After three more updates,\n",
    "`length` is 5;\n",
    "since there is nothing left in `'aeiou'` for Python to process,\n",
    "the loop finishes\n",
    "and the `print` statement on line 4 tells us our final answer.\n",
    "\n",
    "Note that a loop variable is just a variable that's being used to record progress in a loop.\n",
    "It still exists after the loop is over,\n",
    "and we can re-use variables previously defined as loop variables as well:"
   ]
  },
  {
   "cell_type": "code",
   "execution_count": null,
   "metadata": {},
   "outputs": [],
   "source": [
    "letter = 'z'\n",
    "for letter in 'abc':\n",
    "    print(letter)\n",
    "print('after the loop, letter is', letter)"
   ]
  },
  {
   "cell_type": "markdown",
   "metadata": {},
   "source": [
    "{: .python}"
   ]
  },
  {
   "cell_type": "code",
   "execution_count": null,
   "metadata": {},
   "outputs": [],
   "source": [
    "a\n",
    "b\n",
    "c\n",
    "after the loop, letter is c"
   ]
  },
  {
   "cell_type": "markdown",
   "metadata": {},
   "source": [
    "{: .output}\n",
    "\n",
    "Note also that finding the length of a string is such a common operation\n",
    "that Python actually has a built-in function to do it called `len`:"
   ]
  },
  {
   "cell_type": "code",
   "execution_count": null,
   "metadata": {},
   "outputs": [],
   "source": [
    "print(len('aeiou'))"
   ]
  },
  {
   "cell_type": "markdown",
   "metadata": {},
   "source": [
    "{: .python}"
   ]
  },
  {
   "cell_type": "code",
   "execution_count": null,
   "metadata": {},
   "outputs": [],
   "source": [
    "5"
   ]
  },
  {
   "cell_type": "markdown",
   "metadata": {},
   "source": [
    "{: .output}\n",
    "\n",
    "`len` is much faster than any function we could write ourselves,\n",
    "and much easier to read than a two-line loop;\n",
    "it will also give us the length of many other things that we haven't met yet,\n",
    "so we should always use it when we can.\n",
    "\n",
    "> ## From 1 to N\n",
    ">\n",
    "> Python has a built-in function called `range` that creates a sequence of numbers. Range can\n",
    "> accept 1-3 parameters. If one parameter is input, range creates an array of that length,\n",
    "> starting at zero and incrementing by 1. If 2 parameters are input, range starts at\n",
    "> the first and ends just before the second, incrementing by one. If range is passed 3 parameters,\n",
    "> it starts at the first one, ends just before the second one, and increments by the third one. For\n",
    "> example,\n",
    "> `range(3)` produces the numbers 0, 1, 2, while `range(2, 5)` produces 2, 3, 4,\n",
    "> and `range(3, 10, 3)` produces 3, 6, 9.\n",
    "> Using `range`,\n",
    "> write a loop that uses `range` to print the first 3 natural numbers:\n",
    ">\n",
    "> ~~~\n",
    "> 1\n",
    "> 2\n",
    "> 3\n",
    "> ~~~\n",
    "> {: .python}\n",
    ">\n",
    "> > ## Solution\n",
    "> > ~~~\n",
    "> > for i in range(1, 4):\n",
    "> >    print(i)\n",
    "> > ~~~\n",
    "> > {: .python}\n",
    "> {: .solution}\n",
    "{: .challenge}\n",
    "\n",
    "> ## Computing Powers With Loops\n",
    ">\n",
    "> Exponentiation is built into Python:\n",
    ">\n",
    "> ~~~\n",
    "> print(5 ** 3)\n",
    "> ~~~\n",
    "> {: .python}\n",
    ">\n",
    "> ~~~\n",
    "> 125\n",
    "> ~~~\n",
    "> {: .output}\n",
    ">\n",
    "> Write a loop that calculates the same result as `5 ** 3` using\n",
    "> multiplication (and without exponentiation).\n",
    ">\n",
    "> > ## Solution\n",
    "> > ~~~\n",
    "> > result = 1\n",
    "> > for i in range(0, 3):\n",
    "> >    result = result * 5\n",
    "> > print(result)\n",
    "> > ~~~\n",
    "> > {: .python}\n",
    "> {: .solution}\n",
    "{: .challenge}\n",
    "\n",
    "> ## Reverse a String\n",
    ">\n",
    "> Write a loop that takes a string,\n",
    "> and produces a new string with the characters in reverse order,\n",
    "> so `'Newton'` becomes `'notweN'`.\n",
    ">\n",
    "> > ## Solution\n",
    "> > ~~~\n",
    "> > newstring = ''\n",
    "> > oldstring = 'Newton'\n",
    "> > for char in oldstring:\n",
    "> >    newstring = char + newstring\n",
    "> > print(newstring)\n",
    "> > ~~~\n",
    "> > {: .python}\n",
    "> {: .solution}\n",
    "{: .challenge}\n",
    "\n",
    "> ## Computing the Value of a Polynomial\n",
    ">\n",
    "> The built-in function `enumerate` takes a sequence (e.g. a list) and generates a\n",
    "> new sequence of the same length. Each element of the new sequence contains the index\n",
    "> (0,1,2,...) and the value from the original sequence:\n",
    ">\n",
    "> ~~~\n",
    "> for i, x in enumerate(xs):\n",
    ">     # Do something with i and x\n",
    "> ~~~\n",
    "> {: .python}\n",
    ">\n",
    "> The loop above assigns the index to `i` and the value to `x`.\n",
    ">\n",
    "> Suppose you have encoded a polynomial as a list of coefficients in\n",
    "> the following way: the first element is the constant term, the\n",
    "> second element is the coefficient of the linear term, the third is the\n",
    "> coefficient of the quadratic term, etc.\n",
    ">\n",
    "> ~~~\n",
    "> x = 5\n",
    "> cc = [2, 4, 3]\n",
    "> ~~~\n",
    "> {: .python}\n",
    ">\n",
    "> ~~~\n",
    "> y = cc[0] * x**0 + cc[1] * x**1 + cc[2] * x**2\n",
    "> y = 97\n",
    "> ~~~\n",
    "> {: .output}\n",
    ">\n",
    "> Write a loop using `enumerate(cc)` which computes the value `y` of any\n",
    "> polynomial, given `x` and `cc`.\n",
    ">\n",
    "> > ## Solution\n",
    "> > ~~~\n",
    "> > y = 0\n",
    "> > for i, c in enumerate(cc):\n",
    "> >     y = y + x**i * c\n",
    "> > ~~~\n",
    "> > {: .python}\n",
    "> {: .solution}\n",
    "{: .challenge}"
   ]
  }
 ],
 "metadata": {},
 "nbformat": 4,
 "nbformat_minor": 2
}
