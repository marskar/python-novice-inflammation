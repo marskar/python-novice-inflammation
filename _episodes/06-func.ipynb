{
 "cells": [
  {
   "cell_type": "markdown",
   "metadata": {},
   "source": [
    "---\n",
    "title: Creating Functions\n",
    "teaching: 30\n",
    "exercises: 0\n",
    "questions:\n",
    "- \"How can I define new functions?\"\n",
    "- \"What's the difference between defining and calling a function?\"\n",
    "- \"What happens when I call a function?\"\n",
    "objectives:\n",
    "- \"Define a function that takes parameters.\"\n",
    "- \"Return a value from a function.\"\n",
    "- \"Test and debug a function.\"\n",
    "- \"Set default values for function parameters.\"\n",
    "- \"Explain why we should divide programs into small, single-purpose functions.\"\n",
    "keypoints:\n",
    "- \"Define a function using `def name(...params...)`.\"\n",
    "- \"The body of a function must be indented.\"\n",
    "- \"Call a function using `name(...values...)`.\"\n",
    "- \"Numbers are stored as integers or floating-point numbers.\"\n",
    "- \"Integer division produces the whole part of the answer (not the fractional part).\"\n",
    "- \"Each time a function is called, a new stack frame is created on the **call stack** to hold its parameters and local variables.\"\n",
    "- \"Python looks for variables in the current stack frame before looking for them at the top level.\"\n",
    "- \"Use `help(thing)` to view help for something.\"\n",
    "- \"Put docstrings in functions to provide help for that function.\"\n",
    "- \"Specify default values for parameters when defining a function using `name=value` in the parameter list.\"\n",
    "- \"Parameters can be passed by matching based on name, by position, or by omitting them (in which case the default value is used).\"\n",
    "---\n",
    "\n",
    "At this point,\n",
    "we've written code to draw some interesting features in our inflammation data,\n",
    "loop over all our data files to quickly draw these plots for each of them,\n",
    "and have Python make decisions based on what it sees in our data.\n",
    "But, our code is getting pretty long and complicated;\n",
    "what if we had thousands of datasets,\n",
    "and didn't want to generate a figure for every single one?\n",
    "Commenting out the figure-drawing code is a nuisance.\n",
    "Also, what if we want to use that code again,\n",
    "on a different dataset or at a different point in our program?\n",
    "Cutting and pasting it is going to make our code get very long and very repetitive,\n",
    "very quickly.\n",
    "We'd like a way to package our code so that it is easier to reuse,\n",
    "and Python provides for this by letting us define things called 'functions' -\n",
    "a shorthand way of re-executing longer pieces of code.\n",
    "\n",
    "Let's start by defining a function `fahr_to_kelvin` that converts temperatures from Fahrenheit to Kelvin:"
   ]
  },
  {
   "cell_type": "code",
   "execution_count": null,
   "metadata": {},
   "outputs": [],
   "source": [
    "def fahr_to_kelvin(temp):\n",
    "    return ((temp - 32) * (5/9)) + 273.15"
   ]
  },
  {
   "cell_type": "markdown",
   "metadata": {},
   "source": [
    "{: .python}\n",
    "\n",
    "![The Blueprint for a Python Function](../fig/python-function.svg)\n",
    "\n",
    "<!--- see https://gist.github.com/wd15/2b4ffbe5ce0d0ddb8a5b to\n",
    "regenerate the above figure --->\n",
    "\n",
    "The function definition opens with the keyword `def` followed by the\n",
    "name of the function and a parenthesized list of parameter names. The\n",
    "[body]({{ page.root }}/reference/#function-body) of the function --- the\n",
    "statements that are executed when it runs --- is indented below the\n",
    "definition line.\n",
    "\n",
    "When we call the function,\n",
    "the values we pass to it are assigned to those variables\n",
    "so that we can use them inside the function.\n",
    "Inside the function,\n",
    "we use a [return statement]({{ page.root }}/reference/#return-statement) to send a result back to whoever asked for it.\n",
    "\n",
    "Let's try running our function.\n",
    "Calling our own function is no different from calling any other function:"
   ]
  },
  {
   "cell_type": "code",
   "execution_count": null,
   "metadata": {},
   "outputs": [],
   "source": [
    "print('freezing point of water:', fahr_to_kelvin(32))\n",
    "print('boiling point of water:', fahr_to_kelvin(212))"
   ]
  },
  {
   "cell_type": "markdown",
   "metadata": {},
   "source": [
    "{: .python}"
   ]
  },
  {
   "cell_type": "code",
   "execution_count": null,
   "metadata": {},
   "outputs": [],
   "source": [
    "freezing point of water: 273.15\n",
    "boiling point of water: 373.15"
   ]
  },
  {
   "cell_type": "markdown",
   "metadata": {},
   "source": [
    "{: .output}\n",
    "\n",
    "We've successfully called the function that we defined,\n",
    "and we have access to the value that we returned.\n",
    "\n",
    "> ## Integer Division\n",
    ">\n",
    "> We are using Python 3, where division always returns a floating point number:\n",
    ">\n",
    "> ~~~\n",
    "> $ python3 -c \"print(5/9)\"\n",
    "> ~~~\n",
    "> {: .python}\n",
    ">\n",
    "> ~~~\n",
    "> 0.5555555555555556\n",
    "> ~~~\n",
    "> {: .output}\n",
    ">\n",
    "> Unfortunately, this wasn't the case in Python 2:\n",
    ">\n",
    "> ~~~\n",
    "> 5/9\n",
    "> ~~~\n",
    "> {: .python}\n",
    ">\n",
    "> ~~~\n",
    "> 0\n",
    "> ~~~\n",
    "> {: .output}\n",
    ">\n",
    "> If you are using Python 2 and want to keep the fractional part of division\n",
    "> you need to convert one or the other number to floating point:\n",
    ">\n",
    "> ~~~\n",
    "> float(5)/9\n",
    "> ~~~\n",
    "> {: .python}\n",
    ">\n",
    "> ~~~\n",
    "> 0.555555555556\n",
    "> ~~~\n",
    "> {: .output}\n",
    ">\n",
    "> ~~~\n",
    "> 5/float(9)\n",
    "> ~~~\n",
    "> {: .python}\n",
    ">\n",
    "> ~~~\n",
    "> 0.555555555556\n",
    "> ~~~\n",
    "> {: .output}\n",
    ">\n",
    "> ~~~\n",
    "> 5.0/9\n",
    "> ~~~\n",
    "> {: .python}\n",
    ">\n",
    "> ~~~\n",
    "> 0.555555555556\n",
    "> ~~~\n",
    "> {: .output}\n",
    "> ~~~\n",
    "> 5/9.0\n",
    "> ~~~\n",
    "> {: .python}\n",
    ">\n",
    "> ~~~\n",
    "> 0.555555555556\n",
    "> ~~~\n",
    "> {: .output}\n",
    ">\n",
    "> And if you want an integer result from division in Python 3,\n",
    "> use a double-slash:\n",
    ">\n",
    "> ~~~\n",
    "> 4//2\n",
    "> ~~~\n",
    "> {: .python}\n",
    ">\n",
    "> ~~~\n",
    "> 2\n",
    "> ~~~\n",
    "> {: .output}\n",
    ">\n",
    "> ~~~\n",
    "> 3//2\n",
    "> ~~~\n",
    "> {: .python}\n",
    ">\n",
    "> ~~~\n",
    "> 1\n",
    "> ~~~\n",
    "> {: .output}\n",
    "{: .callout}\n",
    "\n",
    "## Composing Functions\n",
    "\n",
    "Now that we've seen how to turn Fahrenheit into Kelvin,\n",
    "it's easy to turn Kelvin into Celsius:"
   ]
  },
  {
   "cell_type": "code",
   "execution_count": null,
   "metadata": {},
   "outputs": [],
   "source": [
    "def kelvin_to_celsius(temp_k):\n",
    "    return temp_k - 273.15\n",
    "\n",
    "print('absolute zero in Celsius:', kelvin_to_celsius(0.0))"
   ]
  },
  {
   "cell_type": "markdown",
   "metadata": {},
   "source": [
    "{: .python}"
   ]
  },
  {
   "cell_type": "code",
   "execution_count": null,
   "metadata": {},
   "outputs": [],
   "source": [
    "absolute zero in Celsius: -273.15"
   ]
  },
  {
   "cell_type": "markdown",
   "metadata": {},
   "source": [
    "{: .output}\n",
    "\n",
    "What about converting Fahrenheit to Celsius?\n",
    "We could write out the formula,\n",
    "but we don't need to.\n",
    "Instead,\n",
    "we can [compose]({{ page.root }}/reference/#compose) the two functions we have already created:"
   ]
  },
  {
   "cell_type": "code",
   "execution_count": null,
   "metadata": {},
   "outputs": [],
   "source": [
    "def fahr_to_celsius(temp_f):\n",
    "    temp_k = fahr_to_kelvin(temp_f)\n",
    "    result = kelvin_to_celsius(temp_k)\n",
    "    return result\n",
    "\n",
    "print('freezing point of water in Celsius:', fahr_to_celsius(32.0))"
   ]
  },
  {
   "cell_type": "markdown",
   "metadata": {},
   "source": [
    "{: .python}"
   ]
  },
  {
   "cell_type": "code",
   "execution_count": null,
   "metadata": {},
   "outputs": [],
   "source": [
    "freezing point of water in Celsius: 0.0"
   ]
  },
  {
   "cell_type": "markdown",
   "metadata": {},
   "source": [
    "{: .output}\n",
    "\n",
    "This is our first taste of how larger programs are built:\n",
    "we define basic operations,\n",
    "then combine them in ever-large chunks to get the effect we want.\n",
    "Real-life functions will usually be larger than the ones shown here --- typically half a dozen to a few dozen lines --- but\n",
    "they shouldn't ever be much longer than that,\n",
    "or the next person who reads it won't be able to understand what's going on.\n",
    "\n",
    "## Tidying up\n",
    "\n",
    "Now that we know how to wrap bits of code up in functions,\n",
    "we can make our inflammation analysis easier to read and easier to reuse.\n",
    "First, let's make an `analyze` function that generates our plots:"
   ]
  },
  {
   "cell_type": "code",
   "execution_count": null,
   "metadata": {},
   "outputs": [],
   "source": [
    "def analyze(filename):\n",
    "\n",
    "    data = numpy.loadtxt(fname=filename, delimiter=',')\n",
    "\n",
    "    fig = matplotlib.pyplot.figure(figsize=(10.0, 3.0))\n",
    "\n",
    "    axes1 = fig.add_subplot(1, 3, 1)\n",
    "    axes2 = fig.add_subplot(1, 3, 2)\n",
    "    axes3 = fig.add_subplot(1, 3, 3)\n",
    "\n",
    "    axes1.set_ylabel('average')\n",
    "    axes1.plot(numpy.mean(data, axis=0))\n",
    "\n",
    "    axes2.set_ylabel('max')\n",
    "    axes2.plot(numpy.max(data, axis=0))\n",
    "\n",
    "    axes3.set_ylabel('min')\n",
    "    axes3.plot(numpy.min(data, axis=0))\n",
    "\n",
    "    fig.tight_layout()\n",
    "    matplotlib.pyplot.show()"
   ]
  },
  {
   "cell_type": "markdown",
   "metadata": {},
   "source": [
    "{: .python}\n",
    "\n",
    "and another function called `detect_problems` that checks for those systematics\n",
    "we noticed:"
   ]
  },
  {
   "cell_type": "code",
   "execution_count": null,
   "metadata": {},
   "outputs": [],
   "source": [
    "def detect_problems(filename):\n",
    "\n",
    "    data = numpy.loadtxt(fname=filename, delimiter=',')\n",
    "\n",
    "    if numpy.max(data, axis=0)[0] == 0 and numpy.max(data, axis=0)[20] == 20:\n",
    "        print('Suspicious looking maxima!')\n",
    "    elif numpy.sum(numpy.min(data, axis=0)) == 0:\n",
    "        print('Minima add up to zero!')\n",
    "    else:\n",
    "        print('Seems OK!')"
   ]
  },
  {
   "cell_type": "markdown",
   "metadata": {},
   "source": [
    "{: .python}\n",
    "\n",
    "Notice that rather than jumbling this code together in one giant `for` loop,\n",
    "we can now read and reuse both ideas separately.\n",
    "We can reproduce the previous analysis with a much simpler `for` loop:"
   ]
  },
  {
   "cell_type": "code",
   "execution_count": null,
   "metadata": {},
   "outputs": [],
   "source": [
    "for f in filenames[:3]:\n",
    "    print(f)\n",
    "    analyze(f)\n",
    "    detect_problems(f)"
   ]
  },
  {
   "cell_type": "markdown",
   "metadata": {},
   "source": [
    "{: .python}\n",
    "\n",
    "By giving our functions human-readable names,\n",
    "we can more easily read and understand what is happening in the `for` loop.\n",
    "Even better, if at some later date we want to use either of those pieces of code again,\n",
    "we can do so in a single line.\n",
    "\n",
    "## Testing and Documenting\n",
    "\n",
    "Once we start putting things in functions so that we can re-use them,\n",
    "we need to start testing that those functions are working correctly.\n",
    "To see how to do this,\n",
    "let's write a function to center a dataset around a particular value:"
   ]
  },
  {
   "cell_type": "code",
   "execution_count": null,
   "metadata": {},
   "outputs": [],
   "source": [
    "def center(data, desired):\n",
    "    return (data - numpy.mean(data)) + desired"
   ]
  },
  {
   "cell_type": "markdown",
   "metadata": {},
   "source": [
    "{: .python}\n",
    "\n",
    "We could test this on our actual data,\n",
    "but since we don't know what the values ought to be,\n",
    "it will be hard to tell if the result was correct.\n",
    "Instead,\n",
    "let's use NumPy to create a matrix of 0's\n",
    "and then center that around 3:"
   ]
  },
  {
   "cell_type": "code",
   "execution_count": null,
   "metadata": {},
   "outputs": [],
   "source": [
    "z = numpy.zeros((2,2))\n",
    "print(center(z, 3))"
   ]
  },
  {
   "cell_type": "markdown",
   "metadata": {},
   "source": [
    "{: .python}"
   ]
  },
  {
   "cell_type": "code",
   "execution_count": null,
   "metadata": {},
   "outputs": [],
   "source": [
    "[[ 3.  3.]\n",
    " [ 3.  3.]]"
   ]
  },
  {
   "cell_type": "markdown",
   "metadata": {},
   "source": [
    "{: .output}\n",
    "\n",
    "That looks right,\n",
    "so let's try `center` on our real data:"
   ]
  },
  {
   "cell_type": "code",
   "execution_count": null,
   "metadata": {},
   "outputs": [],
   "source": [
    "data = numpy.loadtxt(fname='inflammation-01.csv', delimiter=',')\n",
    "print(center(data, 0))"
   ]
  },
  {
   "cell_type": "markdown",
   "metadata": {},
   "source": [
    "{: .python}"
   ]
  },
  {
   "cell_type": "code",
   "execution_count": null,
   "metadata": {},
   "outputs": [],
   "source": [
    "[[-6.14875 -6.14875 -5.14875 ..., -3.14875 -6.14875 -6.14875]\n",
    " [-6.14875 -5.14875 -4.14875 ..., -5.14875 -6.14875 -5.14875]\n",
    " [-6.14875 -5.14875 -5.14875 ..., -4.14875 -5.14875 -5.14875]\n",
    " ...,\n",
    " [-6.14875 -5.14875 -5.14875 ..., -5.14875 -5.14875 -5.14875]\n",
    " [-6.14875 -6.14875 -6.14875 ..., -6.14875 -4.14875 -6.14875]\n",
    " [-6.14875 -6.14875 -5.14875 ..., -5.14875 -5.14875 -6.14875]]"
   ]
  },
  {
   "cell_type": "markdown",
   "metadata": {},
   "source": [
    "{: .output}\n",
    "\n",
    "It's hard to tell from the default output whether the result is correct,\n",
    "but there are a few simple tests that will reassure us:"
   ]
  },
  {
   "cell_type": "code",
   "execution_count": null,
   "metadata": {},
   "outputs": [],
   "source": [
    "print('original min, mean, and max are:', numpy.min(data), numpy.mean(data), numpy.max(data))\n",
    "centered = center(data, 0)\n",
    "print('min, mean, and max of centered data are:', numpy.min(centered), numpy.mean(centered), numpy.max(centered))"
   ]
  },
  {
   "cell_type": "markdown",
   "metadata": {},
   "source": [
    "{: .python}"
   ]
  },
  {
   "cell_type": "code",
   "execution_count": null,
   "metadata": {},
   "outputs": [],
   "source": [
    "original min, mean, and max are: 0.0 6.14875 20.0\n",
    "min, mean, and and max of centered data are: -6.14875 2.84217094304e-16 13.85125"
   ]
  },
  {
   "cell_type": "markdown",
   "metadata": {},
   "source": [
    "{: .output}\n",
    "\n",
    "That seems almost right:\n",
    "the original mean was about 6.1,\n",
    "so the lower bound from zero is now about -6.1.\n",
    "The mean of the centered data isn't quite zero --- we'll explore why not in the challenges --- but it's pretty close.\n",
    "We can even go further and check that the standard deviation hasn't changed:"
   ]
  },
  {
   "cell_type": "code",
   "execution_count": null,
   "metadata": {},
   "outputs": [],
   "source": [
    "print('std dev before and after:', numpy.std(data), numpy.std(centered))"
   ]
  },
  {
   "cell_type": "markdown",
   "metadata": {},
   "source": [
    "{: .python}"
   ]
  },
  {
   "cell_type": "code",
   "execution_count": null,
   "metadata": {},
   "outputs": [],
   "source": [
    "std dev before and after: 4.61383319712 4.61383319712"
   ]
  },
  {
   "cell_type": "markdown",
   "metadata": {},
   "source": [
    "{: .output}\n",
    "\n",
    "Those values look the same,\n",
    "but we probably wouldn't notice if they were different in the sixth decimal place.\n",
    "Let's do this instead:"
   ]
  },
  {
   "cell_type": "code",
   "execution_count": null,
   "metadata": {},
   "outputs": [],
   "source": [
    "print('difference in standard deviations before and after:', numpy.std(data) - numpy.std(centered))"
   ]
  },
  {
   "cell_type": "markdown",
   "metadata": {},
   "source": [
    "{: .python}"
   ]
  },
  {
   "cell_type": "code",
   "execution_count": null,
   "metadata": {},
   "outputs": [],
   "source": [
    "difference in standard deviations before and after: -3.5527136788e-15"
   ]
  },
  {
   "cell_type": "markdown",
   "metadata": {},
   "source": [
    "{: .output}\n",
    "\n",
    "Again,\n",
    "the difference is very small.\n",
    "It's still possible that our function is wrong,\n",
    "but it seems unlikely enough that we should probably get back to doing our analysis.\n",
    "We have one more task first, though:\n",
    "we should write some [documentation]({{ page.root }}/reference/#documentation) for our function\n",
    "to remind ourselves later what it's for and how to use it.\n",
    "\n",
    "The usual way to put documentation in software is to add [comments]({{ page.root }}/reference/#comment) like this:"
   ]
  },
  {
   "cell_type": "code",
   "execution_count": null,
   "metadata": {},
   "outputs": [],
   "source": [
    "# center(data, desired): return a new array containing the original data centered around the desired value.\n",
    "def center(data, desired):\n",
    "    return (data - numpy.mean(data)) + desired"
   ]
  },
  {
   "cell_type": "markdown",
   "metadata": {},
   "source": [
    "{: .python}\n",
    "\n",
    "There's a better way, though.\n",
    "If the first thing in a function is a string that isn't assigned to a variable,\n",
    "that string is attached to the function as its documentation:"
   ]
  },
  {
   "cell_type": "code",
   "execution_count": null,
   "metadata": {},
   "outputs": [],
   "source": [
    "def center(data, desired):\n",
    "    '''Return a new array containing the original data centered around the desired value.'''\n",
    "    return (data - numpy.mean(data)) + desired"
   ]
  },
  {
   "cell_type": "markdown",
   "metadata": {},
   "source": [
    "{: .python}\n",
    "\n",
    "This is better because we can now ask Python's built-in help system to show us the documentation for the function:"
   ]
  },
  {
   "cell_type": "code",
   "execution_count": null,
   "metadata": {},
   "outputs": [],
   "source": [
    "help(center)"
   ]
  },
  {
   "cell_type": "markdown",
   "metadata": {},
   "source": [
    "{: .python}"
   ]
  },
  {
   "cell_type": "code",
   "execution_count": null,
   "metadata": {},
   "outputs": [],
   "source": [
    "Help on function center in module __main__:\n",
    "\n",
    "center(data, desired)\n",
    "    Return a new array containing the original data centered around the desired value."
   ]
  },
  {
   "cell_type": "markdown",
   "metadata": {},
   "source": [
    "{: .output}\n",
    "\n",
    "A string like this is called a [docstring]({{ page.root }}/reference/#docstring).\n",
    "We don't need to use triple quotes when we write one,\n",
    "but if we do,\n",
    "we can break the string across multiple lines:"
   ]
  },
  {
   "cell_type": "code",
   "execution_count": null,
   "metadata": {},
   "outputs": [],
   "source": [
    "def center(data, desired):\n",
    "    '''Return a new array containing the original data centered around the desired value.\n",
    "    Example: center([1, 2, 3], 0) => [-1, 0, 1]'''\n",
    "    return (data - numpy.mean(data)) + desired\n",
    "\n",
    "help(center)"
   ]
  },
  {
   "cell_type": "markdown",
   "metadata": {},
   "source": [
    "{: .python}"
   ]
  },
  {
   "cell_type": "code",
   "execution_count": null,
   "metadata": {},
   "outputs": [],
   "source": [
    "Help on function center in module __main__:\n",
    "\n",
    "center(data, desired)\n",
    "    Return a new array containing the original data centered around the desired value.\n",
    "    Example: center([1, 2, 3], 0) => [-1, 0, 1]"
   ]
  },
  {
   "cell_type": "markdown",
   "metadata": {},
   "source": [
    "{: .output}\n",
    "\n",
    "## Defining Defaults\n",
    "\n",
    "We have passed parameters to functions in two ways:\n",
    "directly, as in `type(data)`,\n",
    "and by name, as in `numpy.loadtxt(fname='something.csv', delimiter=',')`.\n",
    "In fact,\n",
    "we can pass the filename to `loadtxt` without the `fname=`:"
   ]
  },
  {
   "cell_type": "code",
   "execution_count": null,
   "metadata": {},
   "outputs": [],
   "source": [
    "numpy.loadtxt('inflammation-01.csv', delimiter=',')"
   ]
  },
  {
   "cell_type": "markdown",
   "metadata": {},
   "source": [
    "{: .python}"
   ]
  },
  {
   "cell_type": "code",
   "execution_count": null,
   "metadata": {},
   "outputs": [],
   "source": [
    "array([[ 0.,  0.,  1., ...,  3.,  0.,  0.],\n",
    "       [ 0.,  1.,  2., ...,  1.,  0.,  1.],\n",
    "       [ 0.,  1.,  1., ...,  2.,  1.,  1.],\n",
    "       ...,\n",
    "       [ 0.,  1.,  1., ...,  1.,  1.,  1.],\n",
    "       [ 0.,  0.,  0., ...,  0.,  2.,  0.],\n",
    "       [ 0.,  0.,  1., ...,  1.,  1.,  0.]])"
   ]
  },
  {
   "cell_type": "markdown",
   "metadata": {},
   "source": [
    "{: .output}\n",
    "\n",
    "but we still need to say `delimiter=`:"
   ]
  },
  {
   "cell_type": "code",
   "execution_count": null,
   "metadata": {},
   "outputs": [],
   "source": [
    "numpy.loadtxt('inflammation-01.csv', ',')"
   ]
  },
  {
   "cell_type": "markdown",
   "metadata": {},
   "source": [
    "{: .python}"
   ]
  },
  {
   "cell_type": "code",
   "execution_count": null,
   "metadata": {},
   "outputs": [],
   "source": [
    "---------------------------------------------------------------------------\n",
    "TypeError                                 Traceback (most recent call last)\n",
    "<ipython-input-26-e3bc6cf4fd6a> in <module>()\n",
    "----> 1 numpy.loadtxt('inflammation-01.csv', ',')\n",
    "\n",
    "/Users/gwilson/anaconda/lib/python2.7/site-packages/numpy/lib/npyio.pyc in loadtxt(fname, dtype, comments, delimiter, converters, skiprows, usecols, unpack, ndmin)\n",
    "    775     try:\n",
    "    776         # Make sure we're dealing with a proper dtype\n",
    "--> 777         dtype = np.dtype(dtype)\n",
    "    778         defconv = _getconv(dtype)\n",
    "    779\n",
    "\n",
    "TypeError: data type \",\" not understood"
   ]
  },
  {
   "cell_type": "markdown",
   "metadata": {},
   "source": [
    "{: .error}\n",
    "\n",
    "To understand what's going on,\n",
    "and make our own functions easier to use,\n",
    "let's re-define our `center` function like this:"
   ]
  },
  {
   "cell_type": "code",
   "execution_count": null,
   "metadata": {},
   "outputs": [],
   "source": [
    "def center(data, desired=0.0):\n",
    "    '''Return a new array containing the original data centered around the desired value (0 by default).\n",
    "    Example: center([1, 2, 3], 0) => [-1, 0, 1]'''\n",
    "    return (data - numpy.mean(data)) + desired"
   ]
  },
  {
   "cell_type": "markdown",
   "metadata": {},
   "source": [
    "{: .python}\n",
    "\n",
    "The key change is that the second parameter is now written `desired=0.0` instead of just `desired`.\n",
    "If we call the function with two arguments,\n",
    "it works as it did before:"
   ]
  },
  {
   "cell_type": "code",
   "execution_count": null,
   "metadata": {},
   "outputs": [],
   "source": [
    "test_data = numpy.zeros((2, 2))\n",
    "print(center(test_data, 3))"
   ]
  },
  {
   "cell_type": "markdown",
   "metadata": {},
   "source": [
    "{: .python}"
   ]
  },
  {
   "cell_type": "code",
   "execution_count": null,
   "metadata": {},
   "outputs": [],
   "source": [
    "[[ 3.  3.]\n",
    " [ 3.  3.]]"
   ]
  },
  {
   "cell_type": "markdown",
   "metadata": {},
   "source": [
    "{: .output}\n",
    "\n",
    "But we can also now call it with just one parameter,\n",
    "in which case `desired` is automatically assigned the [default value]({{ page.root }}/reference/#default-value) of 0.0:"
   ]
  },
  {
   "cell_type": "code",
   "execution_count": null,
   "metadata": {},
   "outputs": [],
   "source": [
    "more_data = 5 + numpy.zeros((2, 2))\n",
    "print('data before centering:')\n",
    "print(more_data)\n",
    "print('centered data:')\n",
    "print(center(more_data))"
   ]
  },
  {
   "cell_type": "markdown",
   "metadata": {},
   "source": [
    "{: .python}"
   ]
  },
  {
   "cell_type": "code",
   "execution_count": null,
   "metadata": {},
   "outputs": [],
   "source": [
    "data before centering:\n",
    "[[ 5.  5.]\n",
    " [ 5.  5.]]\n",
    "centered data:\n",
    "[[ 0.  0.]\n",
    " [ 0.  0.]]"
   ]
  },
  {
   "cell_type": "markdown",
   "metadata": {},
   "source": [
    "{: .output}\n",
    "\n",
    "This is handy:\n",
    "if we usually want a function to work one way,\n",
    "but occasionally need it to do something else,\n",
    "we can allow people to pass a parameter when they need to\n",
    "but provide a default to make the normal case easier.\n",
    "The example below shows how Python matches values to parameters:"
   ]
  },
  {
   "cell_type": "code",
   "execution_count": null,
   "metadata": {},
   "outputs": [],
   "source": [
    "def display(a=1, b=2, c=3):\n",
    "    print('a:', a, 'b:', b, 'c:', c)\n",
    "\n",
    "print('no parameters:')\n",
    "display()\n",
    "print('one parameter:')\n",
    "display(55)\n",
    "print('two parameters:')\n",
    "display(55, 66)"
   ]
  },
  {
   "cell_type": "markdown",
   "metadata": {},
   "source": [
    "{: .python}"
   ]
  },
  {
   "cell_type": "code",
   "execution_count": null,
   "metadata": {},
   "outputs": [],
   "source": [
    "no parameters:\n",
    "a: 1 b: 2 c: 3\n",
    "one parameter:\n",
    "a: 55 b: 2 c: 3\n",
    "two parameters:\n",
    "a: 55 b: 66 c: 3"
   ]
  },
  {
   "cell_type": "markdown",
   "metadata": {},
   "source": [
    "{: .output}\n",
    "\n",
    "As this example shows,\n",
    "parameters are matched up from left to right,\n",
    "and any that haven't been given a value explicitly get their default value.\n",
    "We can override this behavior by naming the value as we pass it in:"
   ]
  },
  {
   "cell_type": "code",
   "execution_count": null,
   "metadata": {},
   "outputs": [],
   "source": [
    "print('only setting the value of c')\n",
    "display(c=77)"
   ]
  },
  {
   "cell_type": "markdown",
   "metadata": {},
   "source": [
    "{: .python}"
   ]
  },
  {
   "cell_type": "code",
   "execution_count": null,
   "metadata": {},
   "outputs": [],
   "source": [
    "only setting the value of c\n",
    "a: 1 b: 2 c: 77"
   ]
  },
  {
   "cell_type": "markdown",
   "metadata": {},
   "source": [
    "{: .output}\n",
    "\n",
    "With that in hand,\n",
    "let's look at the help for `numpy.loadtxt`:"
   ]
  },
  {
   "cell_type": "code",
   "execution_count": null,
   "metadata": {},
   "outputs": [],
   "source": [
    "help(numpy.loadtxt)"
   ]
  },
  {
   "cell_type": "markdown",
   "metadata": {},
   "source": [
    "{: .python}"
   ]
  },
  {
   "cell_type": "code",
   "execution_count": null,
   "metadata": {},
   "outputs": [],
   "source": [
    "Help on function loadtxt in module numpy.lib.npyio:\n",
    "\n",
    "loadtxt(fname, dtype=<class 'float'>, comments='#', delimiter=None, converters=None, skiprows=0, usecols=None, unpack=False, ndmin=0)\n",
    "    Load data from a text file.\n",
    "\n",
    "    Each row in the text file must have the same number of values.\n",
    "\n",
    "    Parameters\n",
    "    ----------\n",
    "    fname : file or str\n",
    "        File, filename, or generator to read.  If the filename extension is\n",
    "        ``.gz`` or ``.bz2``, the file is first decompressed. Note that\n",
    "        generators should return byte strings for Python 3k.\n",
    "    dtype : data-type, optional\n",
    "        Data-type of the resulting array; default: float.  If this is a\n",
    "        record data-type, the resulting array will be 1-dimensional, and\n",
    "        each row will be interpreted as an element of the array.  In this\n",
    "        case, the number of columns used must match the number of fields in\n",
    "        the data-type.\n",
    "    comments : str, optional\n",
    "        The character used to indicate the start of a comment;\n",
    "        default: '#'.\n",
    "    delimiter : str, optional\n",
    "        The string used to separate values.  By default, this is any\n",
    "        whitespace.\n",
    "    converters : dict, optional\n",
    "        A dictionary mapping column number to a function that will convert\n",
    "        that column to a float.  E.g., if column 0 is a date string:\n",
    "        ``converters = {0: datestr2num}``.  Converters can also be used to\n",
    "        provide a default value for missing data (but see also `genfromtxt`):\n",
    "        ``converters = {3: lambda s: float(s.strip() or 0)}``.  Default: None.\n",
    "    skiprows : int, optional\n",
    "        Skip the first `skiprows` lines; default: 0.\n",
    "    usecols : sequence, optional\n",
    "        Which columns to read, with 0 being the first.  For example,\n",
    "        ``usecols = (1,4,5)`` will extract the 2nd, 5th and 6th columns.\n",
    "        The default, None, results in all columns being read.\n",
    "    unpack : bool, optional\n",
    "        If True, the returned array is transposed, so that arguments may be\n",
    "        unpacked using ``x, y, z = loadtxt(...)``.  When used with a record\n",
    "        data-type, arrays are returned for each field.  Default is False.\n",
    "    ndmin : int, optional\n",
    "        The returned array will have at least `ndmin` dimensions.\n",
    "        Otherwise mono-dimensional axes will be squeezed.\n",
    "        Legal values: 0 (default), 1 or 2.\n",
    "        .. versionadded:: 1.6.0\n",
    "\n",
    "    Returns\n",
    "    -------\n",
    "    out : ndarray\n",
    "        Data read from the text file.\n",
    "\n",
    "    See Also\n",
    "    --------\n",
    "    load, fromstring, fromregex\n",
    "    genfromtxt : Load data with missing values handled as specified.\n",
    "    scipy.io.loadmat : reads MATLAB data files\n",
    "\n",
    "    Notes\n",
    "    -----\n",
    "    This function aims to be a fast reader for simply formatted files.  The\n",
    "    `genfromtxt` function provides more sophisticated handling of, e.g.,\n",
    "    lines with missing values.\n",
    "\n",
    "    Examples\n",
    "    --------\n",
    "    >>> from StringIO import StringIO   # StringIO behaves like a file object\n",
    "    >>> c = StringIO(\"0 1\\n2 3\")\n",
    "    >>> np.loadtxt(c)\n",
    "    array([[ 0.,  1.],\n",
    "           [ 2.,  3.]])\n",
    "\n",
    "    >>> d = StringIO(\"M 21 72\\nF 35 58\")\n",
    "    >>> np.loadtxt(d, dtype={'names': ('gender', 'age', 'weight'),\n",
    "    ...                      'formats': ('S1', 'i4', 'f4')})\n",
    "    array([('M', 21, 72.0), ('F', 35, 58.0)],\n",
    "          dtype=[('gender', '|S1'), ('age', '<i4'), ('weight', '<f4')])\n",
    "\n",
    "    >>> c = StringIO(\"1,0,2\\n3,0,4\")\n",
    "    >>> x, y = np.loadtxt(c, delimiter=',', usecols=(0, 2), unpack=True)\n",
    "    >>> x\n",
    "    array([ 1.,  3.])\n",
    "    >>> y\n",
    "    array([ 2.,  4.])"
   ]
  },
  {
   "cell_type": "markdown",
   "metadata": {},
   "source": [
    "{: .output}\n",
    "\n",
    "There's a lot of information here,\n",
    "but the most important part is the first couple of lines:"
   ]
  },
  {
   "cell_type": "code",
   "execution_count": null,
   "metadata": {},
   "outputs": [],
   "source": [
    "loadtxt(fname, dtype=<type 'float'>, comments='#', delimiter=None, converters=None, skiprows=0, usecols=None,\n",
    "        unpack=False, ndmin=0)"
   ]
  },
  {
   "cell_type": "markdown",
   "metadata": {},
   "source": [
    "{: .output}\n",
    "\n",
    "This tells us that `loadtxt` has one parameter called `fname` that doesn't have a default value,\n",
    "and eight others that do.\n",
    "If we call the function like this:"
   ]
  },
  {
   "cell_type": "code",
   "execution_count": null,
   "metadata": {},
   "outputs": [],
   "source": [
    "numpy.loadtxt('inflammation-01.csv', ',')"
   ]
  },
  {
   "cell_type": "markdown",
   "metadata": {},
   "source": [
    "{: .python}\n",
    "\n",
    "then the filename is assigned to `fname` (which is what we want),\n",
    "but the delimiter string `','` is assigned to `dtype` rather than `delimiter`,\n",
    "because `dtype` is the second parameter in the list. However ',' isn't a known `dtype` so\n",
    "our code produced an error message when we tried to run it.\n",
    "When we call `loadtxt` we don't have to provide `fname=` for the filename because it's the\n",
    "first item in the list, but if we want the ',' to be assigned to the variable `delimiter`,\n",
    "we *do* have to provide `delimiter=` for the second parameter since `delimiter` is not\n",
    "the second parameter in the list.\n",
    "\n",
    "## Readable functions\n",
    "\n",
    "Consider these two functions:"
   ]
  },
  {
   "cell_type": "code",
   "execution_count": null,
   "metadata": {},
   "outputs": [],
   "source": [
    "def s(p):\n",
    "    a = 0\n",
    "    for v in p:\n",
    "        a += v\n",
    "    m = a / len(p)\n",
    "    d = 0\n",
    "    for v in p:\n",
    "        d += (v - m) * (v - m)\n",
    "    return numpy.sqrt(d / (len(p) - 1))\n",
    "\n",
    "def std_dev(sample):\n",
    "    sample_sum = 0\n",
    "    for value in sample:\n",
    "        sample_sum += value\n",
    "\n",
    "    sample_mean = sample_sum / len(sample)\n",
    "\n",
    "    sum_squared_devs = 0\n",
    "    for value in sample:\n",
    "        sum_squared_devs += (value - sample_mean) * (value - sample_mean)\n",
    "\n",
    "    return numpy.sqrt(sum_squared_devs / (len(sample) - 1))"
   ]
  },
  {
   "cell_type": "markdown",
   "metadata": {},
   "source": [
    "{: .python}\n",
    "\n",
    "The functions `s` and `std_dev` are computationally equivalent (they\n",
    "both calculate the sample standard deviation), but to a human reader,\n",
    "they look very different. You probably found `std_dev` much easier to\n",
    "read and understand than `s`.\n",
    "\n",
    "As this example illustrates, both documentation and a programmer's\n",
    "_coding style_ combine to determine how easy it is for others to read\n",
    "and understand the programmer's code. Choosing meaningful variable\n",
    "names and using blank spaces to break the code into logical \"chunks\"\n",
    "are helpful techniques for producing _readable code_. This is useful\n",
    "not only for sharing code with others, but also for the original\n",
    "programmer. If you need to revisit code that you wrote months ago and\n",
    "haven't thought about since then, you will appreciate the value of\n",
    "readable code!\n",
    "\n",
    "> ## Combining Strings\n",
    ">\n",
    "> \"Adding\" two strings produces their concatenation:\n",
    "> `'a' + 'b'` is `'ab'`.\n",
    "> Write a function called `fence` that takes two parameters called `original` and `wrapper`\n",
    "> and returns a new string that has the wrapper character at the beginning and end of the original.\n",
    "> A call to your function should look like this:\n",
    ">\n",
    "> ~~~\n",
    "> print(fence('name', '*'))\n",
    "> ~~~\n",
    "> {: .python}\n",
    ">\n",
    "> ~~~\n",
    "> *name*\n",
    "> ~~~\n",
    "> {: .output}\n",
    ">\n",
    "> > ## Solution\n",
    "> > ~~~\n",
    "> > def fence(original, wrapper):\n",
    "> >     return wrapper + original + wrapper\n",
    "> > ~~~\n",
    "> > {: .python}\n",
    "> {: .solution}\n",
    "{: .challenge}\n",
    "\n",
    "> ## Selecting Characters From Strings\n",
    ">\n",
    "> If the variable `s` refers to a string,\n",
    "> then `s[0]` is the string's first character\n",
    "> and `s[-1]` is its last.\n",
    "> Write a function called `outer`\n",
    "> that returns a string made up of just the first and last characters of its input.\n",
    "> A call to your function should look like this:\n",
    ">\n",
    "> ~~~\n",
    "> print(outer('helium'))\n",
    "> ~~~\n",
    "> {: .python}\n",
    ">\n",
    "> ~~~\n",
    "> hm\n",
    "> ~~~\n",
    "> {: .output}\n",
    ">\n",
    "> > ## Solution\n",
    "> > ~~~\n",
    "> > def outer(input_string):\n",
    "> >     return input_string[0] + input_string[-1]\n",
    "> > ~~~\n",
    "> > {: .python}\n",
    "> {: .solution}\n",
    "{: .challenge}\n",
    "\n",
    "> ## Rescaling an Array\n",
    ">\n",
    "> Write a function `rescale` that takes an array as input\n",
    "> and returns a corresponding array of values scaled to lie in the range 0.0 to 1.0.\n",
    "> (Hint: If $L$ and $H$ are the lowest and highest values in the original array,\n",
    "> then the replacement for a value $v$ should be $(v-L) / (H-L)$.)\n",
    ">\n",
    "> > ## Challenge\n",
    "> > ~~~\n",
    "> > def rescale(input_array):\n",
    "> >     L = numpy.min(input_array)\n",
    "> >     H = numpy.max(input_array)\n",
    "> >     output_array = (input_array - L) / (H - L)\n",
    "> >     return output_array\n",
    "> > ~~~\n",
    "> > {: .python}\n",
    "> {: .solution}\n",
    "{: .challenge}\n",
    "\n",
    "> ## Testing and Documenting Your Function\n",
    ">\n",
    "> Run the commands `help(numpy.arange)` and `help(numpy.linspace)`\n",
    "> to see how to use these functions to generate regularly-spaced values,\n",
    "> then use those values to test your `rescale` function.\n",
    "> Once you've successfully tested your function,\n",
    "> add a docstring that explains what it does.\n",
    ">\n",
    "> > ## Solution\n",
    "> > ~~~\n",
    "> > '''Takes an array as input, and returns a corresponding array scaled so\n",
    "> > that 0 corresponds to the minimum and 1 to the maximum value of the input array.\n",
    "> >\n",
    "> > Examples:\n",
    "> > >>> rescale(numpy.arange(10.0))\n",
    "> > array([ 0.        ,  0.11111111,  0.22222222,  0.33333333,  0.44444444,\n",
    "> >        0.55555556,  0.66666667,  0.77777778,  0.88888889,  1.        ])\n",
    "> > >>> rescale(numpy.linspace(0, 100, 5))\n",
    "> > array([ 0.  ,  0.25,  0.5 ,  0.75,  1.  ])\n",
    "> > '''\n",
    "> > ~~~\n",
    "> > {: .python}\n",
    "> {: .solution}\n",
    "{: .challenge}\n",
    "\n",
    "> ## Defining Defaults\n",
    ">\n",
    "> Rewrite the `rescale` function so that it scales data to lie between 0.0 and 1.0 by default,\n",
    "> but will allow the caller to specify lower and upper bounds if they want.\n",
    "> Compare your implementation to your neighbor's:\n",
    "> do the two functions always behave the same way?\n",
    ">\n",
    "> > ## Solution\n",
    "> > ~~~\n",
    "> > def rescale(input_array, low_val=0.0, high_val=1.0):\n",
    "> >     '''rescales input array values to lie between low_val and high_val'''\n",
    "> >     L = numpy.min(input_array)\n",
    "> >     H = numpy.max(input_array)\n",
    "> >     intermed_array = (input_array - L) / (H - L)\n",
    "> >     output_array = intermed_array * (high_val - low_val) + low_val\n",
    "> >     return output_array\n",
    "> > ~~~\n",
    "> > {: .python}\n",
    "> {: .solution}\n",
    "{: .challenge}\n",
    "\n",
    "> ## Variables Inside and Outside Functions\n",
    ">\n",
    "> What does the following piece of code display when run - and why?\n",
    ">\n",
    "> ~~~\n",
    "> f = 0\n",
    "> k = 0\n",
    ">\n",
    "> def f2k(f):\n",
    ">   k = ((f-32)*(5.0/9.0)) + 273.15\n",
    ">   return k\n",
    ">\n",
    "> f2k(8)\n",
    "> f2k(41)\n",
    "> f2k(32)\n",
    ">\n",
    "> print(k)\n",
    "> ~~~\n",
    "> {: .python}\n",
    ">\n",
    "> > ## Solution\n",
    "> >\n",
    "> > ~~~\n",
    "> > 259.81666666666666\n",
    "> > 287.15\n",
    "> > 273.15\n",
    "> > 0\n",
    "> > ~~~\n",
    "> > {: .output}\n",
    "> > `k` is 0 because the `k` inside the function `f2k` doesn't know about the `k` defined outside the function.\n",
    "> {: .solution}\n",
    "{: .challenge}\n",
    "\n",
    "> ## Mixing Default and Non-Default Parameters\n",
    ">\n",
    "> Given the following code:\n",
    ">\n",
    "> ~~~\n",
    "> def numbers(one, two=2, three, four=4):\n",
    ">     n = str(one) + str(two) + str(three) + str(four)\n",
    ">     return n\n",
    ">\n",
    "> print(numbers(1, three=3))\n",
    "> ~~~\n",
    "> {: .python}\n",
    ">\n",
    "> what do you expect will be printed?  What is actually printed?\n",
    "> What rule do you think Python is following?\n",
    ">\n",
    "> 1.  `1234`\n",
    "> 2.  `one2three4`\n",
    "> 3.  `1239`\n",
    "> 4.  `SyntaxError`\n",
    ">\n",
    "> Given that, what does the following piece of code display when run?\n",
    ">\n",
    "> ~~~\n",
    "> def func(a, b=3, c=6):\n",
    ">   print('a: ', a, 'b: ', b, 'c:', c)\n",
    ">\n",
    "> func(-1, 2)\n",
    "> ~~~\n",
    "> {: .python}\n",
    ">\n",
    "> 1. `a: b: 3 c: 6`\n",
    "> 2. `a: -1 b: 3 c: 6`\n",
    "> 3. `a: -1 b: 2 c: 6`\n",
    "> 4. `a: b: -1 c: 2`\n",
    ">\n",
    "> > ## Solution\n",
    "> > Attempting to define the `numbers` function results in `4. SyntaxError`.\n",
    "> > The defined parameters `two` and `four` are given default values. Because\n",
    "> > `one` and `three` are not given default values, they are required to be \n",
    "> > included as arguments when the function is called and must be placed\n",
    "> > before any parameters that have default values in the function definition.\n",
    "> > \n",
    "> > The given call to `func` displays `a: -1 b: 2 c: 6`. -1 is assigned to\n",
    "> > the first parameter `a`, 2 is assigned to the next parameter `b`, and `c` is\n",
    "> > not passed a value, so it uses its default value 6.\n",
    "> {: .solution}\n",
    "{: .challenge}\n",
    "\n",
    "> ## The Old Switcheroo\n",
    ">\n",
    "> Which of the following would be printed if you were to run this code? Why did you pick this answer?\n",
    ">\n",
    "> 1. `7 3`\n",
    "> 2. `3 7`\n",
    "> 3. `3 3`\n",
    "> 4. `7 7`\n",
    ">\n",
    "> ~~~\n",
    "> a = 3\n",
    "> b = 7\n",
    ">\n",
    "> def swap(a, b):\n",
    ">     temp = a\n",
    ">     a = b\n",
    ">     b = temp\n",
    ">\n",
    "> swap(a, b)\n",
    ">\n",
    "> print(a, b)\n",
    "> ~~~\n",
    "> {: .python}\n",
    "> > ## Solution\n",
    "> > `3, 7` is correct. Initially `a` has a value of 3 and `b` has a value of 7.\n",
    "> > When the swap function is called, it creates local variables (also called\n",
    "> > `a` and `b` in this case) and trades their values. The function does not\n",
    "> > return any values and does not alter `a` or `b` outside of its local copy.\n",
    "> > Therefore the original values of `a` and `b` remain unchanged.\n",
    "> {: .solution}\n",
    "{: .challenge}\n",
    "\n",
    "> ## Readable Code\n",
    ">\n",
    "> Revise a function you wrote for one of the previous exercises to try to make\n",
    "> the code more readable. Then, collaborate with one of your neighbors\n",
    "> to critique each other's functions and discuss how your function implementations\n",
    "> could be further improved to make them more readable.\n",
    "{: .challenge}"
   ]
  }
 ],
 "metadata": {},
 "nbformat": 4,
 "nbformat_minor": 2
}
