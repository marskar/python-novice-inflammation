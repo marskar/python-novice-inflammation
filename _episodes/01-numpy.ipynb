{
 "cells": [
  {
   "cell_type": "markdown",
   "metadata": {},
   "source": [
    "---\n",
    "title: Analyzing Patient Data\n",
    "teaching: 30\n",
    "exercises: 0\n",
    "questions:\n",
    "- \"How can I process tabular data files in Python?\"\n",
    "objectives:\n",
    "- \"Explain what a library is, and what libraries are used for.\"\n",
    "- \"Import a Python library and use the functions it contains.\"\n",
    "- \"Read tabular data from a file into a program.\"\n",
    "- \"Assign values to variables.\"\n",
    "- \"Select individual values and subsections from data.\"\n",
    "- \"Perform operations on arrays of data.\"\n",
    "- \"Plot simple graphs from data.\"\n",
    "keypoints:\n",
    "- \"Import a library into a program using `import libraryname`.\"\n",
    "- \"Use the `numpy` library to work with arrays in Python.\"\n",
    "- \"Use `variable = value` to assign a value to a variable in order to record it in memory.\"\n",
    "- \"Variables are created on demand whenever a value is assigned to them.\"\n",
    "- \"Use `print(something)` to display the value of `something`.\"\n",
    "- \"The expression `array.shape` gives the shape of an array.\"\n",
    "- \"Use `array[x, y]` to select a single element from an array.\"\n",
    "- \"Array indices start at 0, not 1.\"\n",
    "- \"Use `low:high` to specify a slice that includes the indices from `low` to `high-1`.\"\n",
    "- \"All the indexing and slicing that works on arrays also works on strings.\"\n",
    "- \"Use `# some kind of explanation` to add comments to programs.\"\n",
    "- \"Use `numpy.mean(array)`, `numpy.max(array)`, and `numpy.min(array)` to calculate simple statistics.\"\n",
    "- \"Use `numpy.mean(array, axis=0)` or `numpy.mean(array, axis=1)` to calculate statistics across the specified axis.\"\n",
    "- \"Use the `pyplot` library from `matplotlib` for creating simple visualizations.\"\n",
    "---\n",
    "\n",
    "Words are useful,\n",
    "but what's more useful are the sentences and stories we build with them.\n",
    "Similarly,\n",
    "while a lot of powerful, general tools are built into languages like Python,\n",
    "specialized tools built up from these basic units live in [libraries]({{ page.root }}/reference/#library)\n",
    "that can be called upon when needed.\n",
    "\n",
    "In order to load our inflammation data,\n",
    "we need to access ([import]({{ page.root }}/reference/#import) in Python terminology)\n",
    "a library called [NumPy](http://docs.scipy.org/doc/numpy/ \"NumPy Documentation\").\n",
    "In general you should use this library if you want to do fancy things with numbers,\n",
    "especially if you have matrices or arrays.\n",
    "We can import NumPy using:"
   ]
  },
  {
   "cell_type": "code",
   "execution_count": null,
   "metadata": {},
   "outputs": [],
   "source": [
    "import numpy"
   ]
  },
  {
   "cell_type": "markdown",
   "metadata": {},
   "source": [
    "{: .python}\n",
    "\n",
    "Importing a library is like getting a piece of lab equipment out of a storage locker and setting it up on the bench.\n",
    "Libraries provide additional functionality to the basic Python package,\n",
    "much like a new piece of equipment adds functionality to a lab space.\n",
    "Once you've imported the library,\n",
    "we can ask the library to read our data file for us:"
   ]
  },
  {
   "cell_type": "code",
   "execution_count": null,
   "metadata": {},
   "outputs": [],
   "source": [
    "numpy.loadtxt(fname='inflammation-01.csv', delimiter=',')"
   ]
  },
  {
   "cell_type": "markdown",
   "metadata": {},
   "source": [
    "{: .python}"
   ]
  },
  {
   "cell_type": "code",
   "execution_count": null,
   "metadata": {},
   "outputs": [],
   "source": [
    "array([[ 0.,  0.,  1., ...,  3.,  0.,  0.],\n",
    "       [ 0.,  1.,  2., ...,  1.,  0.,  1.],\n",
    "       [ 0.,  1.,  1., ...,  2.,  1.,  1.],\n",
    "       ...,\n",
    "       [ 0.,  1.,  1., ...,  1.,  1.,  1.],\n",
    "       [ 0.,  0.,  0., ...,  0.,  2.,  0.],\n",
    "       [ 0.,  0.,  1., ...,  1.,  1.,  0.]])"
   ]
  },
  {
   "cell_type": "markdown",
   "metadata": {},
   "source": [
    "{: .output}\n",
    "\n",
    "The expression `numpy.loadtxt(...)` is a [function call]({{ page.root }}/reference/#function-call)\n",
    "that asks Python to run the [function]({{ page.root }}/reference/#function) `loadtxt` which belongs to the `numpy` library.\n",
    "This [dotted notation]({{ page.root }}/reference/#dotted-notation) is used everywhere in Python\n",
    "to refer to the parts of things as `thing.component`.\n",
    "\n",
    "`numpy.loadtxt` has two [parameters]({{ page.root }}/reference/#parameter):\n",
    "the name of the file we want to read,\n",
    "and the [delimiter]({{ page.root }}/reference/#delimiter) that separates values on a line.\n",
    "These both need to be character strings (or [strings]({{ page.root }}/reference/#string) for short),\n",
    "so we put them in quotes.\n",
    "\n",
    "When we are finished typing and press Shift+Enter,\n",
    "the notebook runs our command.\n",
    "Since we haven't told it to do anything else with the function's output,\n",
    "the notebook displays it.\n",
    "In this case,\n",
    "that output is the data we just loaded.\n",
    "By default,\n",
    "only a few rows and columns are shown\n",
    "(with `...` to omit elements when displaying big arrays).\n",
    "To save space,\n",
    "Python displays numbers as `1.` instead of `1.0`\n",
    "when there's nothing interesting after the decimal point.\n",
    "\n",
    "Our call to `numpy.loadtxt` read our file,\n",
    "but didn't save the data in memory.\n",
    "To do that,\n",
    "we need to [assign]({{ page.root }}/reference/#assignment) the array to a [variable]({{ page.root }}/reference/#variable).\n",
    "A variable is just a name for a value,\n",
    "such as `x`, `current_temperature`, or `subject_id`.\n",
    "Python's variables must begin with a letter and are [case sensitive]({{ page.root }}/reference/#case-sensitive).\n",
    "We can create a new variable by assigning a value to it using `=`.\n",
    "As an illustration,\n",
    "let's step back and instead of considering a table of data,\n",
    "consider the simplest \"collection\" of data,\n",
    "a single value.\n",
    "The line below assigns the value `55` to a variable `weight_kg`:"
   ]
  },
  {
   "cell_type": "code",
   "execution_count": null,
   "metadata": {},
   "outputs": [],
   "source": [
    "weight_kg = 55"
   ]
  },
  {
   "cell_type": "markdown",
   "metadata": {},
   "source": [
    "{: .python}\n",
    "\n",
    "Once a variable has a value, we can print it to the screen:"
   ]
  },
  {
   "cell_type": "code",
   "execution_count": null,
   "metadata": {},
   "outputs": [],
   "source": [
    "print(weight_kg)"
   ]
  },
  {
   "cell_type": "markdown",
   "metadata": {},
   "source": [
    "{: .python}"
   ]
  },
  {
   "cell_type": "code",
   "execution_count": null,
   "metadata": {},
   "outputs": [],
   "source": [
    "55"
   ]
  },
  {
   "cell_type": "markdown",
   "metadata": {},
   "source": [
    "{: .output}\n",
    "\n",
    "and do arithmetic with it:"
   ]
  },
  {
   "cell_type": "code",
   "execution_count": null,
   "metadata": {},
   "outputs": [],
   "source": [
    "print('weight in pounds:', 2.2 * weight_kg)"
   ]
  },
  {
   "cell_type": "markdown",
   "metadata": {},
   "source": [
    "{: .python}"
   ]
  },
  {
   "cell_type": "code",
   "execution_count": null,
   "metadata": {},
   "outputs": [],
   "source": [
    "weight in pounds: 121.0"
   ]
  },
  {
   "cell_type": "markdown",
   "metadata": {},
   "source": [
    "{: .output}\n",
    "\n",
    "As the example above shows,\n",
    "we can print several things at once by separating them with commas.\n",
    "\n",
    "We can also change a variable's value by assigning it a new one:"
   ]
  },
  {
   "cell_type": "code",
   "execution_count": null,
   "metadata": {},
   "outputs": [],
   "source": [
    "weight_kg = 57.5\n",
    "print('weight in kilograms is now:', weight_kg)"
   ]
  },
  {
   "cell_type": "markdown",
   "metadata": {},
   "source": [
    "{: .python}"
   ]
  },
  {
   "cell_type": "code",
   "execution_count": null,
   "metadata": {},
   "outputs": [],
   "source": [
    "weight in kilograms is now: 57.5"
   ]
  },
  {
   "cell_type": "markdown",
   "metadata": {},
   "source": [
    "{: .output}\n",
    "\n",
    "If we imagine the variable as a sticky note with a name written on it,\n",
    "assignment is like putting the sticky note on a particular value:\n",
    "\n",
    "![Variables as Sticky Notes](../fig/python-sticky-note-variables-01.svg)\n",
    "\n",
    "This means that assigning a value to one variable does *not* change the values of other variables.\n",
    "For example,\n",
    "let's store the subject's weight in pounds in a variable:"
   ]
  },
  {
   "cell_type": "code",
   "execution_count": null,
   "metadata": {},
   "outputs": [],
   "source": [
    "weight_lb = 2.2 * weight_kg\n",
    "print('weight in kilograms:', weight_kg, 'and in pounds:', weight_lb)"
   ]
  },
  {
   "cell_type": "markdown",
   "metadata": {},
   "source": [
    "{: .python}"
   ]
  },
  {
   "cell_type": "code",
   "execution_count": null,
   "metadata": {},
   "outputs": [],
   "source": [
    "weight in kilograms: 57.5 and in pounds: 126.5"
   ]
  },
  {
   "cell_type": "markdown",
   "metadata": {},
   "source": [
    "{: .output}\n",
    "\n",
    "![Creating Another Variable](../fig/python-sticky-note-variables-02.svg)\n",
    "\n",
    "and then change `weight_kg`:"
   ]
  },
  {
   "cell_type": "code",
   "execution_count": null,
   "metadata": {},
   "outputs": [],
   "source": [
    "weight_kg = 100.0\n",
    "print('weight in kilograms is now:', weight_kg, 'and weight in pounds is still:', weight_lb)"
   ]
  },
  {
   "cell_type": "markdown",
   "metadata": {},
   "source": [
    "{: .python}"
   ]
  },
  {
   "cell_type": "code",
   "execution_count": null,
   "metadata": {},
   "outputs": [],
   "source": [
    "weight in kilograms is now: 100.0 and weight in pounds is still: 126.5"
   ]
  },
  {
   "cell_type": "markdown",
   "metadata": {},
   "source": [
    "{: .output}\n",
    "\n",
    "![Updating a Variable](../fig/python-sticky-note-variables-03.svg)\n",
    "\n",
    "Since `weight_lb` doesn't \"remember\" where its value came from,\n",
    "it isn't automatically updated when `weight_kg` changes.\n",
    "This is different from the way spreadsheets work.\n",
    "\n",
    "> ## Who's Who in Memory\n",
    ">\n",
    "> You can use the `%whos` command at any time to see what\n",
    "> variables you have created and what modules you have loaded into the computer's memory.\n",
    "> As this is an IPython command, it will only work if you are in an IPython terminal or the Jupyter Notebook.\n",
    ">\n",
    "> ~~~\n",
    "> %whos\n",
    "> ~~~\n",
    "> {: .python}\n",
    ">\n",
    "> ~~~\n",
    "> Variable    Type       Data/Info\n",
    "> --------------------------------\n",
    "> numpy       module     <module 'numpy' from '/Us<...>kages/numpy/__init__.py'>\n",
    "> weight_kg   float      100.0\n",
    "> weight_lb   float      126.5\n",
    "> ~~~\n",
    "> {: .output}\n",
    "{: .callout}\n",
    "\n",
    "Just as we can assign a single value to a variable, we can also assign an array of values\n",
    "to a variable using the same syntax.  Let's re-run `numpy.loadtxt` and save its result:"
   ]
  },
  {
   "cell_type": "code",
   "execution_count": null,
   "metadata": {},
   "outputs": [],
   "source": [
    "data = numpy.loadtxt(fname='inflammation-01.csv', delimiter=',')"
   ]
  },
  {
   "cell_type": "markdown",
   "metadata": {},
   "source": [
    "{: .python}\n",
    "\n",
    "This statement doesn't produce any output because assignment doesn't display anything.\n",
    "If we want to check that our data has been loaded,\n",
    "we can print the variable's value:"
   ]
  },
  {
   "cell_type": "code",
   "execution_count": null,
   "metadata": {},
   "outputs": [],
   "source": [
    "print(data)"
   ]
  },
  {
   "cell_type": "markdown",
   "metadata": {},
   "source": [
    "{: .python}"
   ]
  },
  {
   "cell_type": "code",
   "execution_count": null,
   "metadata": {},
   "outputs": [],
   "source": [
    "[[ 0.  0.  1. ...,  3.  0.  0.]\n",
    " [ 0.  1.  2. ...,  1.  0.  1.]\n",
    " [ 0.  1.  1. ...,  2.  1.  1.]\n",
    " ...,\n",
    " [ 0.  1.  1. ...,  1.  1.  1.]\n",
    " [ 0.  0.  0. ...,  0.  2.  0.]\n",
    " [ 0.  0.  1. ...,  1.  1.  0.]]"
   ]
  },
  {
   "cell_type": "markdown",
   "metadata": {},
   "source": [
    "{: .output}\n",
    "\n",
    "Now that our data is in memory,\n",
    "we can start doing things with it.\n",
    "First,\n",
    "let's ask what [type]({{ page.root }}/reference/#type) of thing `data` refers to:"
   ]
  },
  {
   "cell_type": "code",
   "execution_count": null,
   "metadata": {},
   "outputs": [],
   "source": [
    "print(type(data))"
   ]
  },
  {
   "cell_type": "markdown",
   "metadata": {},
   "source": [
    "{: .python}"
   ]
  },
  {
   "cell_type": "code",
   "execution_count": null,
   "metadata": {},
   "outputs": [],
   "source": [
    "<class 'numpy.ndarray'>"
   ]
  },
  {
   "cell_type": "markdown",
   "metadata": {},
   "source": [
    "{: .output}\n",
    "\n",
    "The output tells us that `data` currently refers to\n",
    "an N-dimensional array created by the NumPy library.\n",
    "These data correspond to arthritis patients' inflammation.\n",
    "The rows are the individual patients and the columns\n",
    "are their daily inflammation measurements.\n",
    "\n",
    "> ## Data Type\n",
    ">\n",
    "> A Numpy array contains one or more elements\n",
    "> of the same type. `type` will only tell you that\n",
    "> a variable is a NumPy array.\n",
    "> We can also find out the type\n",
    "> of the data contained in the NumPy array.\n",
    ">\n",
    "> ~~~\n",
    "> print(data.dtype)\n",
    "> ~~~\n",
    "> {: .python}\n",
    ">\n",
    "> ~~~\n",
    "> dtype('float64')\n",
    "> ~~~\n",
    "> {: .output}\n",
    ">\n",
    "> This tells us that the NumPy array's elements are\n",
    "> [floating-point numbers]({{ page.root }}/reference/#floating-point number).\n",
    "{: .callout}\n",
    "\n",
    "We can see what the array's [shape]({{ page.root }}/reference/#shape) is like this:"
   ]
  },
  {
   "cell_type": "code",
   "execution_count": null,
   "metadata": {},
   "outputs": [],
   "source": [
    "print(data.shape)"
   ]
  },
  {
   "cell_type": "markdown",
   "metadata": {},
   "source": [
    "{: .python}"
   ]
  },
  {
   "cell_type": "code",
   "execution_count": null,
   "metadata": {},
   "outputs": [],
   "source": [
    "(60, 40)"
   ]
  },
  {
   "cell_type": "markdown",
   "metadata": {},
   "source": [
    "{: .output}\n",
    "\n",
    "This tells us that `data` has 60 rows and 40 columns. When we created the\n",
    "variable `data` to store our arthritis data, we didn't just create the array, we also\n",
    "created information about the array, called [members]({{ page.root }}/reference/#member) or\n",
    "attributes. This extra information describes `data` in\n",
    "the same way an adjective describes a noun.\n",
    "`data.shape` is an attribute  of `data` which describes the dimensions of `data`.\n",
    "We use the same dotted notation for the attributes of variables\n",
    "that we use for the functions in libraries\n",
    "because they have the same part-and-whole relationship.\n",
    "\n",
    "If we want to get a single number from the array,\n",
    "we must provide an [index]({{ page.root }}/reference/#index) in square brackets,\n",
    "just as we do in math:"
   ]
  },
  {
   "cell_type": "code",
   "execution_count": null,
   "metadata": {},
   "outputs": [],
   "source": [
    "print('first value in data:', data[0, 0])"
   ]
  },
  {
   "cell_type": "markdown",
   "metadata": {},
   "source": [
    "{: .python}"
   ]
  },
  {
   "cell_type": "code",
   "execution_count": null,
   "metadata": {},
   "outputs": [],
   "source": [
    "first value in data: 0.0"
   ]
  },
  {
   "cell_type": "markdown",
   "metadata": {},
   "source": [
    "{: .output}"
   ]
  },
  {
   "cell_type": "code",
   "execution_count": null,
   "metadata": {},
   "outputs": [],
   "source": [
    "print('middle value in data:', data[30, 20])"
   ]
  },
  {
   "cell_type": "markdown",
   "metadata": {},
   "source": [
    "{: .python}"
   ]
  },
  {
   "cell_type": "code",
   "execution_count": null,
   "metadata": {},
   "outputs": [],
   "source": [
    "middle value in data: 13.0"
   ]
  },
  {
   "cell_type": "markdown",
   "metadata": {},
   "source": [
    "{: .output}\n",
    "\n",
    "The expression `data[30, 20]` may not surprise you,\n",
    "but `data[0, 0]` might.\n",
    "Programming languages like Fortran and MATLAB start counting at 1,\n",
    "because that's what human beings have done for thousands of years.\n",
    "Languages in the C family (including C++, Java, Perl, and Python) count from 0\n",
    "because it represents an offset from the first value in the array (the second\n",
    "value is offset by one index from the first value). This is closer to the way\n",
    "that computers represent arrays (if you are interested in the historical\n",
    "reasons behind counting indices from zero, you can read\n",
    "[Mike Hoye's blog post](http://exple.tive.org/blarg/2013/10/22/citation-needed/)).\n",
    "As a result,\n",
    "if we have an M×N array in Python,\n",
    "its indices go from 0 to M-1 on the first axis\n",
    "and 0 to N-1 on the second.\n",
    "It takes a bit of getting used to,\n",
    "but one way to remember the rule is that\n",
    "the index is how many steps we have to take from the start to get the item we want.\n",
    "\n",
    "> ## In the Corner\n",
    ">\n",
    "> What may also surprise you is that when Python displays an array,\n",
    "> it shows the element with index `[0, 0]` in the upper left corner\n",
    "> rather than the lower left.\n",
    "> This is consistent with the way mathematicians draw matrices,\n",
    "> but different from the Cartesian coordinates.\n",
    "> The indices are (row, column) instead of (column, row) for the same reason,\n",
    "> which can be confusing when plotting data.\n",
    "{: .callout}\n",
    "\n",
    "An index like `[30, 20]` selects a single element of an array,\n",
    "but we can select whole sections as well.\n",
    "For example,\n",
    "we can select the first ten days (columns) of values\n",
    "for the first four patients (rows) like this:"
   ]
  },
  {
   "cell_type": "code",
   "execution_count": null,
   "metadata": {},
   "outputs": [],
   "source": [
    "print(data[0:4, 0:10])"
   ]
  },
  {
   "cell_type": "markdown",
   "metadata": {},
   "source": [
    "{: .python}"
   ]
  },
  {
   "cell_type": "code",
   "execution_count": null,
   "metadata": {},
   "outputs": [],
   "source": [
    "[[ 0.  0.  1.  3.  1.  2.  4.  7.  8.  3.]\n",
    " [ 0.  1.  2.  1.  2.  1.  3.  2.  2.  6.]\n",
    " [ 0.  1.  1.  3.  3.  2.  6.  2.  5.  9.]\n",
    " [ 0.  0.  2.  0.  4.  2.  2.  1.  6.  7.]]"
   ]
  },
  {
   "cell_type": "markdown",
   "metadata": {},
   "source": [
    "{: .output}\n",
    "\n",
    "The [slice]({{ page.root }}/reference/#slice) `0:4` means,\n",
    "\"Start at index 0 and go up to, but not including, index 4.\"\n",
    "Again,\n",
    "the up-to-but-not-including takes a bit of getting used to,\n",
    "but the rule is that the difference between the upper and lower bounds is the number of values in the slice.\n",
    "\n",
    "We don't have to start slices at 0:"
   ]
  },
  {
   "cell_type": "code",
   "execution_count": null,
   "metadata": {},
   "outputs": [],
   "source": [
    "print(data[5:10, 0:10])"
   ]
  },
  {
   "cell_type": "markdown",
   "metadata": {},
   "source": [
    "{: .python}"
   ]
  },
  {
   "cell_type": "code",
   "execution_count": null,
   "metadata": {},
   "outputs": [],
   "source": [
    "[[ 0.  0.  1.  2.  2.  4.  2.  1.  6.  4.]\n",
    " [ 0.  0.  2.  2.  4.  2.  2.  5.  5.  8.]\n",
    " [ 0.  0.  1.  2.  3.  1.  2.  3.  5.  3.]\n",
    " [ 0.  0.  0.  3.  1.  5.  6.  5.  5.  8.]\n",
    " [ 0.  1.  1.  2.  1.  3.  5.  3.  5.  8.]]"
   ]
  },
  {
   "cell_type": "markdown",
   "metadata": {},
   "source": [
    "{: .output}\n",
    "\n",
    "We also don't have to include the upper and lower bound on the slice.\n",
    "If we don't include the lower bound,\n",
    "Python uses 0 by default;\n",
    "if we don't include the upper,\n",
    "the slice runs to the end of the axis,\n",
    "and if we don't include either\n",
    "(i.e., if we just use ':' on its own),\n",
    "the slice includes everything:"
   ]
  },
  {
   "cell_type": "code",
   "execution_count": null,
   "metadata": {},
   "outputs": [],
   "source": [
    "small = data[:3, 36:]\n",
    "print('small is:')\n",
    "print(small)"
   ]
  },
  {
   "cell_type": "markdown",
   "metadata": {},
   "source": [
    "{: .python}"
   ]
  },
  {
   "cell_type": "code",
   "execution_count": null,
   "metadata": {},
   "outputs": [],
   "source": [
    "small is:\n",
    "[[ 2.  3.  0.  0.]\n",
    " [ 1.  1.  0.  1.]\n",
    " [ 2.  2.  1.  1.]]"
   ]
  },
  {
   "cell_type": "markdown",
   "metadata": {},
   "source": [
    "{: .output}\n",
    "\n",
    "Arrays also know how to perform common mathematical operations on their values.\n",
    "The simplest operations with data are arithmetic:\n",
    "add, subtract, multiply, and divide.\n",
    " When you do such operations on arrays,\n",
    "the operation is done on each individual element of the array.\n",
    "Thus:"
   ]
  },
  {
   "cell_type": "code",
   "execution_count": null,
   "metadata": {},
   "outputs": [],
   "source": [
    "doubledata = data * 2.0"
   ]
  },
  {
   "cell_type": "markdown",
   "metadata": {},
   "source": [
    "{: .python}\n",
    "\n",
    "will create a new array `doubledata`\n",
    "whose elements have the value of two times the value of the corresponding elements in `data`:"
   ]
  },
  {
   "cell_type": "code",
   "execution_count": null,
   "metadata": {},
   "outputs": [],
   "source": [
    "print('original:')\n",
    "print(data[:3, 36:])\n",
    "print('doubledata:')\n",
    "print(doubledata[:3, 36:])"
   ]
  },
  {
   "cell_type": "markdown",
   "metadata": {},
   "source": [
    "{: .python}"
   ]
  },
  {
   "cell_type": "code",
   "execution_count": null,
   "metadata": {},
   "outputs": [],
   "source": [
    "original:\n",
    "[[ 2.  3.  0.  0.]\n",
    " [ 1.  1.  0.  1.]\n",
    " [ 2.  2.  1.  1.]]\n",
    "doubledata:\n",
    "[[ 4.  6.  0.  0.]\n",
    " [ 2.  2.  0.  2.]\n",
    " [ 4.  4.  2.  2.]]"
   ]
  },
  {
   "cell_type": "markdown",
   "metadata": {},
   "source": [
    "{: .output}\n",
    "\n",
    "If,\n",
    "instead of taking an array and doing arithmetic with a single value (as above)\n",
    "you did the arithmetic operation with another array of the same shape,\n",
    "the operation will be done on corresponding elements of the two arrays.\n",
    "Thus:"
   ]
  },
  {
   "cell_type": "code",
   "execution_count": null,
   "metadata": {},
   "outputs": [],
   "source": [
    "tripledata = doubledata + data"
   ]
  },
  {
   "cell_type": "markdown",
   "metadata": {},
   "source": [
    "{: .python}\n",
    "\n",
    "will give you an array where `tripledata[0,0]` will equal `doubledata[0,0]` plus `data[0,0]`,\n",
    "and so on for all other elements of the arrays."
   ]
  },
  {
   "cell_type": "code",
   "execution_count": null,
   "metadata": {},
   "outputs": [],
   "source": [
    "print('tripledata:')\n",
    "print(tripledata[:3, 36:])"
   ]
  },
  {
   "cell_type": "markdown",
   "metadata": {},
   "source": [
    "{: .python}"
   ]
  },
  {
   "cell_type": "code",
   "execution_count": null,
   "metadata": {},
   "outputs": [],
   "source": [
    "tripledata:\n",
    "[[ 6.  9.  0.  0.]\n",
    " [ 3.  3.  0.  3.]\n",
    " [ 6.  6.  3.  3.]]"
   ]
  },
  {
   "cell_type": "markdown",
   "metadata": {},
   "source": [
    "{: .output}\n",
    "\n",
    "Often, we want to do more than add, subtract, multiply, and divide values of data.\n",
    "NumPy knows how to do more complex operations on arrays.\n",
    "If we want to find the average inflammation for all patients on all days,\n",
    "for example,\n",
    "we can ask NumPy to compute `data`'s mean value:"
   ]
  },
  {
   "cell_type": "code",
   "execution_count": null,
   "metadata": {},
   "outputs": [],
   "source": [
    "print(numpy.mean(data))"
   ]
  },
  {
   "cell_type": "markdown",
   "metadata": {},
   "source": [
    "{: .python}"
   ]
  },
  {
   "cell_type": "code",
   "execution_count": null,
   "metadata": {},
   "outputs": [],
   "source": [
    "6.14875"
   ]
  },
  {
   "cell_type": "markdown",
   "metadata": {},
   "source": [
    "{: .output}\n",
    "\n",
    "`mean` is a [function]({{ page.root }}/reference/#function) that takes\n",
    "an array as an [argument]({{ page.root }}/reference/#argument).\n",
    "If variables are nouns, functions are verbs:\n",
    "they do things with variables.\n",
    "\n",
    "> ## Not All Functions Have Input\n",
    ">\n",
    "> Generally, a function uses inputs to produce outputs.\n",
    "> However, some functions produce outputs without\n",
    "> needing any input. For example, checking the current time\n",
    "> doesn't require any input.\n",
    ">\n",
    "> ~~~\n",
    "> import time\n",
    "> print(time.ctime())\n",
    "> ~~~\n",
    "> {: .python}\n",
    ">\n",
    "> ~~~\n",
    "> 'Sat Mar 26 13:07:33 2016'\n",
    "> ~~~\n",
    "> {: .output}\n",
    ">\n",
    "> For functions that don't take in any arguments,\n",
    "> we still need parentheses (`()`)\n",
    "> to tell Python to go and do something for us.\n",
    "{: .callout}\n",
    "\n",
    "NumPy has lots of useful functions that take an array as input.\n",
    "Let's use three of those functions to get some descriptive values about the dataset.\n",
    "We'll also use multiple assignment,\n",
    "a convenient Python feature that will enable us to do this all in one line."
   ]
  },
  {
   "cell_type": "code",
   "execution_count": null,
   "metadata": {},
   "outputs": [],
   "source": [
    "maxval, minval, stdval = numpy.max(data), numpy.min(data), numpy.std(data)\n",
    "\n",
    "print('maximum inflammation:', maxval)\n",
    "print('minimum inflammation:', minval)\n",
    "print('standard deviation:', stdval)"
   ]
  },
  {
   "cell_type": "markdown",
   "metadata": {},
   "source": [
    "{: .python}"
   ]
  },
  {
   "cell_type": "code",
   "execution_count": null,
   "metadata": {},
   "outputs": [],
   "source": [
    "maximum inflammation: 20.0\n",
    "minimum inflammation: 0.0\n",
    "standard deviation: 4.61383319712"
   ]
  },
  {
   "cell_type": "markdown",
   "metadata": {},
   "source": [
    "{: .output}\n",
    "\n",
    "> ## Mystery Functions in IPython\n",
    ">\n",
    "> How did we know what functions NumPy has and how to use them?\n",
    "> If you are working in the IPython/Jupyter Notebook there is an easy way to find out.\n",
    "> If you type the name of something with a full-stop then you can use tab completion\n",
    "> (e.g. type `numpy.` and then press tab)\n",
    "> to see a list of all functions and attributes that you can use. After selecting one you\n",
    "> can also add a question mark (e.g. `numpy.cumprod?`) and IPython will return an\n",
    "> explanation of the method! This is the same as doing `help(numpy.cumprod)`.\n",
    "{: .callout}\n",
    "\n",
    "When analyzing data, though,\n",
    "we often want to look at partial statistics,\n",
    "such as the maximum value per patient\n",
    "or the average value per day.\n",
    "One way to do this is to create a new temporary array of the data we want,\n",
    "then ask it to do the calculation:"
   ]
  },
  {
   "cell_type": "code",
   "execution_count": null,
   "metadata": {},
   "outputs": [],
   "source": [
    "patient_0 = data[0, :] # 0 on the first axis, everything on the second\n",
    "print('maximum inflammation for patient 0:', patient_0.max())"
   ]
  },
  {
   "cell_type": "markdown",
   "metadata": {},
   "source": [
    "{: .python}"
   ]
  },
  {
   "cell_type": "code",
   "execution_count": null,
   "metadata": {},
   "outputs": [],
   "source": [
    "maximum inflammation for patient 0: 18.0"
   ]
  },
  {
   "cell_type": "markdown",
   "metadata": {},
   "source": [
    "{: .output}\n",
    "\n",
    "Everything in a line of code following the '#' symbol is a\n",
    "[comment]({{ page.root }}/reference/#comment) that is ignored by the computer.\n",
    "Comments allow programmers to leave explanatory notes for other\n",
    "programmers or their future selves.\n",
    "\n",
    "We don't actually need to store the row in a variable of its own.\n",
    "Instead, we can combine the selection and the function call:"
   ]
  },
  {
   "cell_type": "code",
   "execution_count": null,
   "metadata": {},
   "outputs": [],
   "source": [
    "print('maximum inflammation for patient 2:', numpy.max(data[2, :]))"
   ]
  },
  {
   "cell_type": "markdown",
   "metadata": {},
   "source": [
    "{: .python}"
   ]
  },
  {
   "cell_type": "code",
   "execution_count": null,
   "metadata": {},
   "outputs": [],
   "source": [
    "maximum inflammation for patient 2: 19.0"
   ]
  },
  {
   "cell_type": "markdown",
   "metadata": {},
   "source": [
    "{: .output}\n",
    "\n",
    "What if we need the maximum inflammation for each patient over all days (as in the\n",
    "next diagram on the left), or the average for each day (as in the\n",
    "diagram on the right)? As the diagram below shows, we want to perform the\n",
    "operation across an axis:\n",
    "\n",
    "![Operations Across Axes](../fig/python-operations-across-axes.png)\n",
    "\n",
    "To support this,\n",
    "most array functions allow us to specify the axis we want to work on.\n",
    "If we ask for the average across axis 0 (rows in our 2D example),\n",
    "we get:"
   ]
  },
  {
   "cell_type": "code",
   "execution_count": null,
   "metadata": {},
   "outputs": [],
   "source": [
    "print(numpy.mean(data, axis=0))"
   ]
  },
  {
   "cell_type": "markdown",
   "metadata": {},
   "source": [
    "{: .python}"
   ]
  },
  {
   "cell_type": "code",
   "execution_count": null,
   "metadata": {},
   "outputs": [],
   "source": [
    "[  0.           0.45         1.11666667   1.75         2.43333333   3.15\n",
    "   3.8          3.88333333   5.23333333   5.51666667   5.95         5.9\n",
    "   8.35         7.73333333   8.36666667   9.5          9.58333333\n",
    "  10.63333333  11.56666667  12.35        13.25        11.96666667\n",
    "  11.03333333  10.16666667  10.           8.66666667   9.15         7.25\n",
    "   7.33333333   6.58333333   6.06666667   5.95         5.11666667   3.6\n",
    "   3.3          3.56666667   2.48333333   1.5          1.13333333\n",
    "   0.56666667]"
   ]
  },
  {
   "cell_type": "markdown",
   "metadata": {},
   "source": [
    "{: .output}\n",
    "\n",
    "As a quick check,\n",
    "we can ask this array what its shape is:"
   ]
  },
  {
   "cell_type": "code",
   "execution_count": null,
   "metadata": {},
   "outputs": [],
   "source": [
    "print(numpy.mean(data, axis=0).shape)"
   ]
  },
  {
   "cell_type": "markdown",
   "metadata": {},
   "source": [
    "{: .python}"
   ]
  },
  {
   "cell_type": "code",
   "execution_count": null,
   "metadata": {},
   "outputs": [],
   "source": [
    "(40,)"
   ]
  },
  {
   "cell_type": "markdown",
   "metadata": {},
   "source": [
    "{: .output}\n",
    "\n",
    "The expression `(40,)` tells us we have an N×1 vector,\n",
    "so this is the average inflammation per day for all patients.\n",
    "If we average across axis 1 (columns in our 2D example), we get:"
   ]
  },
  {
   "cell_type": "code",
   "execution_count": null,
   "metadata": {},
   "outputs": [],
   "source": [
    "print(numpy.mean(data, axis=1))"
   ]
  },
  {
   "cell_type": "markdown",
   "metadata": {},
   "source": [
    "{: .python}"
   ]
  },
  {
   "cell_type": "code",
   "execution_count": null,
   "metadata": {},
   "outputs": [],
   "source": [
    "[ 5.45   5.425  6.1    5.9    5.55   6.225  5.975  6.65   6.625  6.525\n",
    "  6.775  5.8    6.225  5.75   5.225  6.3    6.55   5.7    5.85   6.55\n",
    "  5.775  5.825  6.175  6.1    5.8    6.425  6.05   6.025  6.175  6.55\n",
    "  6.175  6.35   6.725  6.125  7.075  5.725  5.925  6.15   6.075  5.75\n",
    "  5.975  5.725  6.3    5.9    6.75   5.925  7.225  6.15   5.95   6.275  5.7\n",
    "  6.1    6.825  5.975  6.725  5.7    6.25   6.4    7.05   5.9  ]"
   ]
  },
  {
   "cell_type": "markdown",
   "metadata": {},
   "source": [
    "{: .output}\n",
    "\n",
    "which is the average inflammation per patient across all days.\n",
    "\n",
    "The mathematician Richard Hamming once said,\n",
    "\"The purpose of computing is insight, not numbers,\"\n",
    "and the best way to develop insight is often to visualize data.\n",
    "Visualization deserves an entire lecture (of course) of its own,\n",
    "but we can explore a few features of Python's `matplotlib` library here.\n",
    "While there is no \"official\" plotting library,\n",
    "this package is the de facto standard.\n",
    "First,\n",
    "we will import the `pyplot` module from `matplotlib`\n",
    "and use two of its functions to create and display a heat map of our data:"
   ]
  },
  {
   "cell_type": "code",
   "execution_count": null,
   "metadata": {},
   "outputs": [],
   "source": [
    "import matplotlib.pyplot\n",
    "image = matplotlib.pyplot.imshow(data)\n",
    "matplotlib.pyplot.show()"
   ]
  },
  {
   "cell_type": "markdown",
   "metadata": {},
   "source": [
    "{: .python}\n",
    "\n",
    "![Heatmap of the Data](../fig/01-numpy_71_0.png)\n",
    "\n",
    "Blue regions in this heat map are low values, while red shows high values.\n",
    "As we can see,\n",
    "inflammation rises and falls over a 40-day period.\n",
    "\n",
    "> ## Some IPython Magic\n",
    ">\n",
    "> If you're using an IPython / Jupyter notebook,\n",
    "> you'll need to execute the following command\n",
    "> in order for your matplotlib images to appear\n",
    "> in the notebook when `show()` is called:\n",
    ">\n",
    "> ~~~\n",
    "> % matplotlib inline\n",
    "> ~~~\n",
    "> {: .python}\n",
    ">\n",
    "> The `%` indicates an IPython magic function -\n",
    "> a function that is only valid within the notebook environment.\n",
    "> Note that you only have to execute this function once per notebook.\n",
    "{: .callout}\n",
    "\n",
    "Let's take a look at the average inflammation over time:"
   ]
  },
  {
   "cell_type": "code",
   "execution_count": null,
   "metadata": {},
   "outputs": [],
   "source": [
    "ave_inflammation = numpy.mean(data, axis=0)\n",
    "ave_plot = matplotlib.pyplot.plot(ave_inflammation)\n",
    "matplotlib.pyplot.show()"
   ]
  },
  {
   "cell_type": "markdown",
   "metadata": {},
   "source": [
    "{: .python}\n",
    "\n",
    "![Average Inflammation Over Time](../fig/01-numpy_73_0.png)\n",
    "\n",
    "Here,\n",
    "we have put the average per day across all patients in the variable `ave_inflammation`,\n",
    "then asked `matplotlib.pyplot` to create and display a line graph of those values.\n",
    "The result is roughly a linear rise and fall,\n",
    "which is suspicious:\n",
    "based on other studies,\n",
    "we expect a sharper rise and slower fall.\n",
    "Let's have a look at two other statistics:"
   ]
  },
  {
   "cell_type": "code",
   "execution_count": null,
   "metadata": {},
   "outputs": [],
   "source": [
    "max_plot = matplotlib.pyplot.plot(numpy.max(data, axis=0))\n",
    "matplotlib.pyplot.show()"
   ]
  },
  {
   "cell_type": "markdown",
   "metadata": {},
   "source": [
    "{: .python}\n",
    "\n",
    "![Maximum Value Along The First Axis](../fig/01-numpy_75_1.png)"
   ]
  },
  {
   "cell_type": "code",
   "execution_count": null,
   "metadata": {},
   "outputs": [],
   "source": [
    "min_plot = matplotlib.pyplot.plot(numpy.min(data, axis=0))\n",
    "matplotlib.pyplot.show()"
   ]
  },
  {
   "cell_type": "markdown",
   "metadata": {},
   "source": [
    "{: .python}\n",
    "\n",
    "![Minimum Value Along The First Axis](../fig/01-numpy_75_3.png)\n",
    "\n",
    "The maximum value rises and falls perfectly smoothly,\n",
    "while the minimum seems to be a step function.\n",
    "Neither result seems particularly likely,\n",
    "so either there's a mistake in our calculations\n",
    "or something is wrong with our data.\n",
    "This insight would have been difficult to reach by\n",
    "examining the data without visualization tools.\n",
    "\n",
    "You can group similar plots in a single figure using subplots.\n",
    "This script below uses a number of new commands. The function `matplotlib.pyplot.figure()`\n",
    "creates a space into which we will place all of our plots. The parameter `figsize`\n",
    "tells Python how big to make this space. Each subplot is placed into the figure using\n",
    "its `add_subplot` [method]({{ page.root }}/reference/#method). The `add_subplot` method takes 3 parameters. The first denotes\n",
    "how many total rows of subplots there are, the second parameter refers to the\n",
    "total number of subplot columns, and the final parameter denotes which subplot\n",
    "your variable is referencing (left-to-right, top-to-bottom). Each subplot is stored in a\n",
    "different variable (`axes1`, `axes2`, `axes3`). Once a subplot is created, the axes can\n",
    "be titled using the `set_xlabel()` command (or `set_ylabel()`).\n",
    "Here are our three plots side by side:"
   ]
  },
  {
   "cell_type": "code",
   "execution_count": null,
   "metadata": {},
   "outputs": [],
   "source": [
    "import numpy\n",
    "import matplotlib.pyplot\n",
    "\n",
    "data = numpy.loadtxt(fname='inflammation-01.csv', delimiter=',')\n",
    "\n",
    "fig = matplotlib.pyplot.figure(figsize=(10.0, 3.0))\n",
    "\n",
    "axes1 = fig.add_subplot(1, 3, 1)\n",
    "axes2 = fig.add_subplot(1, 3, 2)\n",
    "axes3 = fig.add_subplot(1, 3, 3)\n",
    "\n",
    "axes1.set_ylabel('average')\n",
    "axes1.plot(numpy.mean(data, axis=0))\n",
    "\n",
    "axes2.set_ylabel('max')\n",
    "axes2.plot(numpy.max(data, axis=0))\n",
    "\n",
    "axes3.set_ylabel('min')\n",
    "axes3.plot(numpy.min(data, axis=0))\n",
    "\n",
    "fig.tight_layout()\n",
    "\n",
    "matplotlib.pyplot.show()"
   ]
  },
  {
   "cell_type": "markdown",
   "metadata": {},
   "source": [
    "{: .python}\n",
    "\n",
    "![The Previous Plots as Subplots](../fig/01-numpy_80_0.png)\n",
    "\n",
    "The [call]({{ page.root }}/reference/#function-call) to `loadtxt` reads our data,\n",
    "and the rest of the program tells the plotting library\n",
    "how large we want the figure to be,\n",
    "that we're creating three subplots,\n",
    "what to draw for each one,\n",
    "and that we want a tight layout.\n",
    "(Perversely,\n",
    "if we leave out that call to `fig.tight_layout()`,\n",
    "the graphs will actually be squeezed together more closely.)\n",
    "\n",
    "> ## Scientists Dislike Typing\n",
    ">\n",
    "> We will always use the syntax `import numpy` to import NumPy.\n",
    "> However, in order to save typing, it is\n",
    "> [often suggested](http://www.scipy.org/getting-started.html#an-example-script)\n",
    "> to make a shortcut like so: `import numpy as np`.\n",
    "> If you ever see Python code online using a NumPy function with `np`\n",
    "> (for example, `np.loadtxt(...)`), it's because they've used this shortcut.\n",
    "> When working with other people, it is important to agree on a convention of how common libraries are imported.\n",
    "{: .callout}\n",
    "> ## Check Your Understanding\n",
    ">\n",
    "> Draw diagrams showing what variables refer to what values after each statement in the following program:\n",
    ">\n",
    "> ~~~\n",
    "> mass = 47.5\n",
    "> age = 122\n",
    "> mass = mass * 2.0\n",
    "> age = age - 20\n",
    "> ~~~\n",
    "> {: .python}\n",
    "{: .challenge}\n",
    "\n",
    "> ## Sorting Out References\n",
    ">\n",
    "> What does the following program print out?\n",
    ">\n",
    "> ~~~\n",
    "> first, second = 'Grace', 'Hopper'\n",
    "> third, fourth = second, first\n",
    "> print(third, fourth)\n",
    "> ~~~\n",
    "> {: .python}\n",
    ">\n",
    "> > ## Solution\n",
    "> > ~~~\n",
    "> > Hopper Grace\n",
    "> > ~~~\n",
    "> > {: .output}\n",
    "> {: .solution}\n",
    "{: .challenge}\n",
    "\n",
    "> ## Slicing Strings\n",
    ">\n",
    "> A section of an array is called a [slice]({{ page.root }}/reference/#slice).\n",
    "> We can take slices of character strings as well:\n",
    ">\n",
    "> ~~~\n",
    "> element = 'oxygen'\n",
    "> print('first three characters:', element[0:3])\n",
    "> print('last three characters:', element[3:6])\n",
    "> ~~~\n",
    "> {: .python}\n",
    ">\n",
    "> ~~~\n",
    "> first three characters: oxy\n",
    "> last three characters: gen\n",
    "> ~~~\n",
    "> {: .output}\n",
    ">\n",
    "> What is the value of `element[:4]`?\n",
    "> What about `element[4:]`?\n",
    "> Or `element[:]`?\n",
    ">\n",
    "> > ## Solution\n",
    "> > ~~~\n",
    "> > oxyg\n",
    "> > en\n",
    "> > oxygen\n",
    "> > ~~~\n",
    "> > {: .output}\n",
    "> {: .solution}\n",
    ">\n",
    "> What is `element[-1]`?\n",
    "> What is `element[-2]`?\n",
    ">\n",
    "> > ## Solution\n",
    "> > ~~~\n",
    "> > n\n",
    "> > e\n",
    "> > ~~~\n",
    "> > {: .output}\n",
    "> {: .solution}\n",
    ">\n",
    "> Given those answers,\n",
    "> explain what `element[1:-1]` does.\n",
    ">\n",
    "> > ## Solution\n",
    "> > Creates a substring from index 1 up to (not including) the final index,\n",
    "> > effectively removing the first and last letters from 'oxygen'\n",
    "> {: .solution}\n",
    "{: .challenge}\n",
    "\n",
    "> ## Thin Slices\n",
    ">\n",
    "> The expression `element[3:3]` produces an [empty string]({{ page.root }}/reference/#empty-string),\n",
    "> i.e., a string that contains no characters.\n",
    "> If `data` holds our array of patient data,\n",
    "> what does `data[3:3, 4:4]` produce?\n",
    "> What about `data[3:3, :]`?\n",
    ">\n",
    "> > ## Solution\n",
    "> > ~~~\n",
    "> > []\n",
    "> > []\n",
    "> > ~~~\n",
    "> > {: .output}\n",
    "> {: .solution}\n",
    "{: .challenge}\n",
    "\n",
    "> ## Plot Scaling\n",
    ">\n",
    "> Why do all of our plots stop just short of the upper end of our graph?\n",
    ">\n",
    "> > ## Solution\n",
    "> > Because matplotlib normally sets x and y axes limits to the min and max of our data\n",
    "> > (depending on data range)\n",
    "> {: .solution}\n",
    ">\n",
    "> If we want to change this, we can use the `set_ylim(min, max)` method of each 'axes',\n",
    "> for example:\n",
    ">\n",
    "> ~~~\n",
    "> axes3.set_ylim(0,6)\n",
    "> ~~~\n",
    "> {: .python}\n",
    ">\n",
    "> Update your plotting code to automatically set a more appropriate scale.\n",
    "> (Hint: you can make use of the `max` and `min` methods to help.)\n",
    ">\n",
    "> > ## Solution\n",
    "> > ~~~\n",
    "> > # One method\n",
    "> > axes3.set_ylabel('min')\n",
    "> > axes3.plot(numpy.min(data, axis=0))\n",
    "> > axes3.set_ylim(0,6)\n",
    "> > ~~~\n",
    "> > {: .python}\n",
    "> {: .solution}\n",
    ">\n",
    "> > ## Solution\n",
    "> > ~~~\n",
    "> > # A more automated approach\n",
    "> > min_data = numpy.min(data, axis=0)\n",
    "> > axes3.set_ylabel('min')\n",
    "> > axes3.plot(min_data)\n",
    "> > axes3.set_ylim(numpy.min(min_data), numpy.max(min_data) * 1.1)\n",
    "> > ~~~\n",
    "> > {: .python}\n",
    "> {: .solution}\n",
    "{: .challenge}\n",
    "\n",
    "> ## Drawing Straight Lines\n",
    ">\n",
    "> In the center and right subplots above, we  expect all lines to look like step functions, because\n",
    "> non-integer value are not realistic for the minimum and maximum values. However, you can see\n",
    "> that the lines are not always vertical or horizontal, and in particular the step function\n",
    "> in the subplot on the right looks slanted. Why is this?\n",
    ">\n",
    "> > ## Solution\n",
    "> > Because matplotlib interpolates (draws a straight line) between the points.\n",
    "> > One way to do avoid this is to use the Matplotlib `drawstyle` option:\n",
    "> >\n",
    "> > ~~~\n",
    "> > import numpy\n",
    "> > import matplotlib.pyplot\n",
    "> >\n",
    "> > data = numpy.loadtxt(fname='inflammation-01.csv', delimiter=',')\n",
    "> >\n",
    "> > fig = matplotlib.pyplot.figure(figsize=(10.0, 3.0))\n",
    "> >\n",
    "> > axes1 = fig.add_subplot(1, 3, 1)\n",
    "> > axes2 = fig.add_subplot(1, 3, 2)\n",
    "> > axes3 = fig.add_subplot(1, 3, 3)\n",
    "> >\n",
    "> > axes1.set_ylabel('average')\n",
    "> > axes1.plot(numpy.mean(data, axis=0), drawstyle='steps-mid')\n",
    "> >\n",
    "> > axes2.set_ylabel('max')\n",
    "> > axes2.plot(numpy.max(data, axis=0), drawstyle='steps-mid')\n",
    "> >\n",
    "> > axes3.set_ylabel('min')\n",
    "> > axes3.plot(numpy.min(data, axis=0), drawstyle='steps-mid')\n",
    "> >\n",
    "> > fig.tight_layout()\n",
    "> >\n",
    "> > matplotlib.pyplot.show()\n",
    "> > ~~~\n",
    "> > {: .python}\n",
    "> ![Plot with step lines](../fig/01-numpy_exercise_0.png)\n",
    "> {: .solution}\n",
    "{: .challenge}\n",
    "\n",
    "> ## Make Your Own Plot\n",
    ">\n",
    "> Create a plot showing the standard deviation (`numpy.std`)\n",
    "> of the inflammation data for each day across all patients.\n",
    ">\n",
    "> > ## Solution\n",
    "> > ~~~\n",
    "> > max_plot = matplotlib.pyplot.plot(numpy.std(data, axis=0))\n",
    "> > matplotlib.pyplot.show()\n",
    "> > ~~~\n",
    "> > {: .python}\n",
    "> {: .solution}\n",
    "{: .challenge}\n",
    "\n",
    "> ## Moving Plots Around\n",
    ">\n",
    "> Modify the program to display the three plots on top of one another\n",
    "> instead of side by side.\n",
    ">\n",
    "> > ## Solution\n",
    "> > ~~~\n",
    "> > import numpy\n",
    "> > import matplotlib.pyplot\n",
    "> >\n",
    "> > data = numpy.loadtxt(fname='data/inflammation-01.csv', delimiter=',')\n",
    "> >\n",
    "> > # change figsize (swap width and height)\n",
    "> > fig = matplotlib.pyplot.figure(figsize=(3.0, 10.0))\n",
    "> >\n",
    "> > # change add_subplot (swap first two parameters)\n",
    "> > axes1 = fig.add_subplot(3, 1, 1)\n",
    "> > axes2 = fig.add_subplot(3, 1, 2)\n",
    "> > axes3 = fig.add_subplot(3, 1, 3)\n",
    "> >\n",
    "> > axes1.set_ylabel('average')\n",
    "> > axes1.plot(numpy.mean(data, axis=0))\n",
    "> >\n",
    "> > axes2.set_ylabel('max')\n",
    "> > axes2.plot(numpy.max(data, axis=0))\n",
    "> >\n",
    "> > axes3.set_ylabel('min')\n",
    "> > axes3.plot(numpy.min(data, axis=0))\n",
    "> >\n",
    "> > fig.tight_layout()\n",
    "> >\n",
    "> > matplotlib.pyplot.show()\n",
    "> > ~~~\n",
    "> > {: .python}\n",
    "> {: .solution}\n",
    "{: .challenge}\n",
    "\n",
    "> ## Stacking Arrays\n",
    ">\n",
    "> Arrays can be concatenated and stacked on top of one another,\n",
    "> using NumPy's `vstack` and `hstack` functions for vertical and horizontal stacking, respectively.\n",
    ">\n",
    "> ~~~\n",
    "> import numpy\n",
    ">\n",
    "> A = numpy.array([[1,2,3], [4,5,6], [7, 8, 9]])\n",
    "> print('A = ')\n",
    "> print(A)\n",
    ">\n",
    "> B = numpy.hstack([A, A])\n",
    "> print('B = ')\n",
    "> print(B)\n",
    ">\n",
    "> C = numpy.vstack([A, A])\n",
    "> print('C = ')\n",
    "> print(C)\n",
    "> ~~~\n",
    "> {: .python}\n",
    ">\n",
    "> ~~~\n",
    "> A =\n",
    "> [[1 2 3]\n",
    ">  [4 5 6]\n",
    ">  [7 8 9]]\n",
    "> B =\n",
    "> [[1 2 3 1 2 3]\n",
    ">  [4 5 6 4 5 6]\n",
    ">  [7 8 9 7 8 9]]\n",
    "> C =\n",
    "> [[1 2 3]\n",
    ">  [4 5 6]\n",
    ">  [7 8 9]\n",
    ">  [1 2 3]\n",
    ">  [4 5 6]\n",
    ">  [7 8 9]]\n",
    "> ~~~\n",
    "> {: .output}\n",
    ">\n",
    "> Write some additional code that slices the first and last columns of `A`,\n",
    "> and stacks them into a 3x2 array.\n",
    "> Make sure to `print` the results to verify your solution.\n",
    ">\n",
    "> > ## Solution\n",
    "> >\n",
    "> > A 'gotcha' with array indexing is that singleton dimensions\n",
    "> > are dropped by default. That means `A[:, 0]` is a one dimensional\n",
    "> > array, which won't stack as desired. To preserve singleton dimensions,\n",
    "> > the index itself can be a slice or array. For example, `A[:, :1]` returns\n",
    "> > a two dimensional array with one singleton dimension (i.e. a column\n",
    "> > vector).\n",
    "> >\n",
    "> > ~~~\n",
    "> > D = numpy.hstack((A[:, :1], A[:, -1:]))\n",
    "> > print('D = ')\n",
    "> > print(D)\n",
    "> > ~~~\n",
    "> > {: .python}\n",
    "> >\n",
    "> > ~~~\n",
    "> > D =\n",
    "> > [[1 3]\n",
    "> >  [4 6]\n",
    "> >  [7 9]]\n",
    "> > ~~~\n",
    "> > {: .output}\n",
    "> {: .solution}\n",
    ">\n",
    "> > ## Solution\n",
    "> >\n",
    "> > An alternative way to achieve the same result is to use Numpy's\n",
    "> > delete function to remove the second column of A.\n",
    "> >\n",
    "> > ~~~\n",
    "> > D = numpy.delete(A, 1, 1)\n",
    "> > print('D = ')\n",
    "> > print(D)\n",
    "> > ~~~\n",
    "> > {: .python}\n",
    "> >\n",
    "> > ~~~\n",
    "> > D =\n",
    "> > [[1 3]\n",
    "> >  [4 6]\n",
    "> >  [7 9]]\n",
    "> > ~~~\n",
    "> > {: .output}\n",
    "> {: .solution}\n",
    "{: .challenge}\n",
    "\n",
    ">## Change In Inflamation\n",
    ">\n",
    ">This patient data is _longitudinal_ in the sense that each row represents a\n",
    ">series of observations relating to one individual. This means that change\n",
    ">inflamation is a meaningful concept.\n",
    ">\n",
    ">The `numpy.diff()` function takes a NumPy array and returns the \n",
    ">difference along a specified axis.\n",
    ">\n",
    ">Which axis would it make sense to use this function along?\n",
    ">\n",
    "> > ## Solution\n",
    "> > Since the row axis (0) is patients, it does not make sense to get the\n",
    "> > difference between two arbitrary patients. The column axis (1) is in\n",
    "> > days, so the differnce is the change in inflamation -- a meaningful\n",
    "> > concept.\n",
    "> >\n",
    "> > ~~~\n",
    "> > numpy.diff(data, axis=1)\n",
    "> > ~~~\n",
    "> > {: .python}\n",
    "> {: .solution}\n",
    ">\n",
    ">If the shape of an individual data file is `(60, 40)` (60 rows and 40\n",
    ">columns), what would the shape of the array be after you run the `diff()`\n",
    ">function and why?\n",
    ">\n",
    "> > ## Solution\n",
    "> > The shape will be `(60, 39)` because there is one fewer difference between\n",
    "> > columns than there are columns in the data.\n",
    "> {: .solution}\n",
    ">\n",
    ">How would you find the largest change in inflammation for each patient? Does\n",
    ">it matter if the change in inflammation is an increase or a decrease?\n",
    ">\n",
    "> > ## Solution\n",
    "> > By using the `numpy.max()` function after you apply the `numpy.diff()`\n",
    "> > function, you will get the largest difference between days.\n",
    "> >\n",
    "> > ~~~\n",
    "> > numpy.max(numpy.diff(data, axis=1), axis=1)\n",
    "> > ~~~\n",
    "> > {: .python}\n",
    "> >\n",
    "> > ~~~\n",
    "> > array([  7.,  12.,  11.,  10.,  11.,  13.,  10.,   8.,  10.,  10.,   7.,\n",
    "> >          7.,  13.,   7.,  10.,  10.,   8.,  10.,   9.,  10.,  13.,   7.,\n",
    "> >         12.,   9.,  12.,  11.,  10.,  10.,   7.,  10.,  11.,  10.,   8.,\n",
    "> >         11.,  12.,  10.,   9.,  10.,  13.,  10.,   7.,   7.,  10.,  13.,\n",
    "> >         12.,   8.,   8.,  10.,  10.,   9.,   8.,  13.,  10.,   7.,  10.,\n",
    "> >          8.,  12.,  10.,   7.,  12.])\n",
    "> > ~~~\n",
    "> > {: .python}\n",
    "> >\n",
    "> > If a difference is a *decrease*, then the difference will be negative. If\n",
    "> > you are interested in the **magnitude** of the change and not just the\n",
    "> > direction, the `numpy.absolute()` function will provide that.\n",
    "> >\n",
    "> > Notice the difference if you get the largest _absolute_ difference\n",
    "> > between readings.\n",
    "> >\n",
    "> > ~~~\n",
    "> > numpy.max(numpy.absolute(numpy.diff(data, axis=1)), axis=1)\n",
    "> > ~~~\n",
    "> > {: .python}\n",
    "> >\n",
    "> > ~~~\n",
    "> > array([ 12.,  14.,  11.,  13.,  11.,  13.,  10.,  12.,  10.,  10.,  10.,\n",
    "> >         12.,  13.,  10.,  11.,  10.,  12.,  13.,   9.,  10.,  13.,   9.,\n",
    "> >         12.,   9.,  12.,  11.,  10.,  13.,   9.,  13.,  11.,  11.,   8.,\n",
    "> >         11.,  12.,  13.,   9.,  10.,  13.,  11.,  11.,  13.,  11.,  13.,\n",
    "> >         13.,  10.,   9.,  10.,  10.,   9.,   9.,  13.,  10.,   9.,  10.,\n",
    "> >         11.,  13.,  10.,  10.,  12.])\n",
    "> > ~~~\n",
    "> > {: .python}\n",
    "> >\n",
    "> {: .solution}\n",
    "{: .challenge}"
   ]
  }
 ],
 "metadata": {},
 "nbformat": 4,
 "nbformat_minor": 2
}
