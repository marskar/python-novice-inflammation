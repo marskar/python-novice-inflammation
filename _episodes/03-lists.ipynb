{
 "cells": [
  {
   "cell_type": "markdown",
   "metadata": {},
   "source": [
    "---\n",
    "title: Storing Multiple Values in Lists\n",
    "teaching: 30\n",
    "exercises: 0\n",
    "questions:\n",
    "- \"How can I store many values together?\"\n",
    "objectives:\n",
    "- \"Explain what a list is.\"\n",
    "- \"Create and index lists of simple values.\"\n",
    "keypoints:\n",
    "- \"`[value1, value2, value3, ...]` creates a list.\"\n",
    "- \"Lists are indexed and sliced in the same way as strings and arrays.\"\n",
    "- \"Lists are mutable (i.e., their values can be changed in place).\"\n",
    "- \"Strings are immutable (i.e., the characters in them cannot be changed).\"\n",
    "---\n",
    "\n",
    "Just as a `for` loop is a way to do operations many times,\n",
    "a list is a way to store many values.\n",
    "Unlike NumPy arrays,\n",
    "lists are built into the language (so we don't have to load a library\n",
    "to use them).\n",
    "We create a list by putting values inside square brackets and separating the values with commas:"
   ]
  },
  {
   "cell_type": "code",
   "execution_count": null,
   "metadata": {},
   "outputs": [],
   "source": [
    "odds = [1, 3, 5, 7]\n",
    "print('odds are:', odds)"
   ]
  },
  {
   "cell_type": "markdown",
   "metadata": {},
   "source": [
    "{: .python}"
   ]
  },
  {
   "cell_type": "code",
   "execution_count": null,
   "metadata": {},
   "outputs": [],
   "source": [
    "odds are: [1, 3, 5, 7]"
   ]
  },
  {
   "cell_type": "markdown",
   "metadata": {},
   "source": [
    "{: .output}\n",
    "\n",
    "We select individual elements from lists by indexing them:"
   ]
  },
  {
   "cell_type": "code",
   "execution_count": null,
   "metadata": {},
   "outputs": [],
   "source": [
    "print('first and last:', odds[0], odds[-1])"
   ]
  },
  {
   "cell_type": "markdown",
   "metadata": {},
   "source": [
    "{: .python}"
   ]
  },
  {
   "cell_type": "code",
   "execution_count": null,
   "metadata": {},
   "outputs": [],
   "source": [
    "first and last: 1 7"
   ]
  },
  {
   "cell_type": "markdown",
   "metadata": {},
   "source": [
    "{: .output}\n",
    "\n",
    "and if we loop over a list,\n",
    "the loop variable is assigned elements one at a time:"
   ]
  },
  {
   "cell_type": "code",
   "execution_count": null,
   "metadata": {},
   "outputs": [],
   "source": [
    "for number in odds:\n",
    "    print(number)"
   ]
  },
  {
   "cell_type": "markdown",
   "metadata": {},
   "source": [
    "{: .python}"
   ]
  },
  {
   "cell_type": "code",
   "execution_count": null,
   "metadata": {},
   "outputs": [],
   "source": [
    "1\n",
    "3\n",
    "5\n",
    "7"
   ]
  },
  {
   "cell_type": "markdown",
   "metadata": {},
   "source": [
    "{: .output}\n",
    "\n",
    "There is one important difference between lists and strings:\n",
    "we can change the values in a list,\n",
    "but we cannot change individual characters in a string.\n",
    "For example:"
   ]
  },
  {
   "cell_type": "code",
   "execution_count": null,
   "metadata": {},
   "outputs": [],
   "source": [
    "names = ['Newton', 'Darwing', 'Turing'] # typo in Darwin's name\n",
    "print('names is originally:', names)\n",
    "names[1] = 'Darwin' # correct the name\n",
    "print('final value of names:', names)"
   ]
  },
  {
   "cell_type": "markdown",
   "metadata": {},
   "source": [
    "{: .python}"
   ]
  },
  {
   "cell_type": "code",
   "execution_count": null,
   "metadata": {},
   "outputs": [],
   "source": [
    "names is originally: ['Newton', 'Darwing', 'Turing']\n",
    "final value of names: ['Newton', 'Darwin', 'Turing']"
   ]
  },
  {
   "cell_type": "markdown",
   "metadata": {},
   "source": [
    "{: .output}\n",
    "\n",
    "works, but:"
   ]
  },
  {
   "cell_type": "code",
   "execution_count": null,
   "metadata": {},
   "outputs": [],
   "source": [
    "name = 'Darwin'\n",
    "name[0] = 'd'"
   ]
  },
  {
   "cell_type": "markdown",
   "metadata": {},
   "source": [
    "{: .python}"
   ]
  },
  {
   "cell_type": "code",
   "execution_count": null,
   "metadata": {},
   "outputs": [],
   "source": [
    "---------------------------------------------------------------------------\n",
    "TypeError                                 Traceback (most recent call last)\n",
    "<ipython-input-8-220df48aeb2e> in <module>()\n",
    "      1 name = 'Darwin'\n",
    "----> 2 name[0] = 'd'\n",
    "\n",
    "TypeError: 'str' object does not support item assignment"
   ]
  },
  {
   "cell_type": "markdown",
   "metadata": {},
   "source": [
    "{: .error}\n",
    "\n",
    "does not.\n",
    "\n",
    "> ## Ch-Ch-Ch-Changes\n",
    ">\n",
    "> Data which can be modified in place is called [mutable]({{ page.root }}/reference/#mutable),\n",
    "> while data which cannot be modified is called [immutable]({{ page.root }}/reference/#immutable).\n",
    "> Strings and numbers are immutable. This does not mean that variables with string or number values are constants,\n",
    "> but when we want to change the value of a string or number variable, we can only replace the old value\n",
    "> with a completely new value.\n",
    ">\n",
    "> Lists and arrays, on the other hand, are mutable: we can modify them after they have been created. We can\n",
    "> change individual elements, append new elements, or reorder the whole list.  For some operations, like\n",
    "> sorting, we can choose whether to use a function that modifies the data in place or a function that returns a\n",
    "> modified copy and leaves the original unchanged.\n",
    ">\n",
    "> Be careful when modifying data in place.  If two variables refer to the same list, and you modify the list\n",
    "> value, it will change for both variables! If you want variables with mutable values to be independent, you\n",
    "> must make a copy of the value when you assign it.\n",
    ">\n",
    "> Because of pitfalls like this, code which modifies data in place can be more difficult to understand. However,\n",
    "> it is often far more efficient to modify a large data structure in place than to create a modified copy for\n",
    "> every small change. You should consider both of these aspects when writing your code.\n",
    "{: .callout}\n",
    "\n",
    "> ## Nested Lists\n",
    "> Since lists can contain any Python variable, it can even contain other lists.\n",
    ">\n",
    "> For example, we could represent the products in the shelves of a small grocery shop:\n",
    ">\n",
    "> ~~~\n",
    "> x = [['pepper', 'zucchini', 'onion'],\n",
    ">      ['cabbage', 'lettuce', 'garlic'],\n",
    ">      ['apple', 'pear', 'banana']]\n",
    "> ~~~\n",
    "> {: .python}\n",
    ">\n",
    "> Here is a visual example of how indexing a list of lists `x` works:\n",
    ">\n",
    "> <a href='https://twitter.com/hadleywickham/status/643381054758363136'>\n",
    "> ![The first element of a list. Adapted from @hadleywickham's tweet about R lists.](../fig/indexing_lists_python.png)</a>\n",
    ">\n",
    "> Using the previously declared list `x`, these would be the results of the\n",
    "> index operations shown in the image:\n",
    ">\n",
    "> ~~~\n",
    "> print([x[0]])\n",
    "> ~~~\n",
    "> {: .python}\n",
    ">\n",
    "> ~~~\n",
    "> [['pepper', 'zucchini', 'onion']]\n",
    "> ~~~\n",
    "> {: .output}\n",
    ">\n",
    "> ~~~\n",
    "> print(x[0])\n",
    "> ~~~\n",
    "> {: .python}\n",
    ">\n",
    "> ~~~\n",
    "> ['pepper', 'zucchini', 'onion']\n",
    "> ~~~\n",
    "> {: .output}\n",
    ">\n",
    "> ~~~\n",
    "> print(x[0][0])\n",
    "> ~~~\n",
    "> {: .python}\n",
    ">\n",
    "> ~~~\n",
    "> 'pepper'\n",
    "> ~~~\n",
    "> {: .output}\n",
    ">\n",
    "> Thanks to [Hadley Wickham](https://twitter.com/hadleywickham/status/643381054758363136)\n",
    "> for the image above.\n",
    "{: .callout}\n",
    "\n",
    "There are many ways to change the contents of lists besides assigning new values to\n",
    "individual elements:"
   ]
  },
  {
   "cell_type": "code",
   "execution_count": null,
   "metadata": {},
   "outputs": [],
   "source": [
    "odds.append(11)\n",
    "print('odds after adding a value:', odds)"
   ]
  },
  {
   "cell_type": "markdown",
   "metadata": {},
   "source": [
    "{: .python}"
   ]
  },
  {
   "cell_type": "code",
   "execution_count": null,
   "metadata": {},
   "outputs": [],
   "source": [
    "odds after adding a value: [1, 3, 5, 7, 11]"
   ]
  },
  {
   "cell_type": "markdown",
   "metadata": {},
   "source": [
    "{: .output}"
   ]
  },
  {
   "cell_type": "code",
   "execution_count": null,
   "metadata": {},
   "outputs": [],
   "source": [
    "del odds[0]\n",
    "print('odds after removing the first element:', odds)"
   ]
  },
  {
   "cell_type": "markdown",
   "metadata": {},
   "source": [
    "{: .python}"
   ]
  },
  {
   "cell_type": "code",
   "execution_count": null,
   "metadata": {},
   "outputs": [],
   "source": [
    "odds after removing the first element: [3, 5, 7, 11]"
   ]
  },
  {
   "cell_type": "markdown",
   "metadata": {},
   "source": [
    "{: .output}"
   ]
  },
  {
   "cell_type": "code",
   "execution_count": null,
   "metadata": {},
   "outputs": [],
   "source": [
    "odds.reverse()\n",
    "print('odds after reversing:', odds)"
   ]
  },
  {
   "cell_type": "markdown",
   "metadata": {},
   "source": [
    "{: .python}"
   ]
  },
  {
   "cell_type": "code",
   "execution_count": null,
   "metadata": {},
   "outputs": [],
   "source": [
    "odds after reversing: [11, 7, 5, 3]"
   ]
  },
  {
   "cell_type": "markdown",
   "metadata": {},
   "source": [
    "{: .output}\n",
    "\n",
    "While modifying in place, it is useful to remember that Python treats lists in a slightly counter-intuitive way.\n",
    "\n",
    "If we make a list and (attempt to) copy it then modify in place, we can cause all sorts of trouble:"
   ]
  },
  {
   "cell_type": "code",
   "execution_count": null,
   "metadata": {},
   "outputs": [],
   "source": [
    "odds = [1, 3, 5, 7]\n",
    "primes = odds\n",
    "primes += [2]\n",
    "print('primes:', primes)\n",
    "print('odds:', odds)"
   ]
  },
  {
   "cell_type": "markdown",
   "metadata": {},
   "source": [
    "{: .python}"
   ]
  },
  {
   "cell_type": "code",
   "execution_count": null,
   "metadata": {},
   "outputs": [],
   "source": [
    "primes: [1, 3, 5, 7, 2]\n",
    "odds: [1, 3, 5, 7, 2]"
   ]
  },
  {
   "cell_type": "markdown",
   "metadata": {},
   "source": [
    "{: .output}\n",
    "\n",
    "This is because Python stores a list in memory, and then can use multiple names to refer to the same list.\n",
    "If all we want to do is copy a (simple) list, we can use the `list` function, so we do not modify a list we did not mean to:"
   ]
  },
  {
   "cell_type": "code",
   "execution_count": null,
   "metadata": {},
   "outputs": [],
   "source": [
    "odds = [1, 3, 5, 7]\n",
    "primes = list(odds)\n",
    "primes += [2]\n",
    "print('primes:', primes)\n",
    "print('odds:', odds)"
   ]
  },
  {
   "cell_type": "markdown",
   "metadata": {},
   "source": [
    "{: .python}"
   ]
  },
  {
   "cell_type": "code",
   "execution_count": null,
   "metadata": {},
   "outputs": [],
   "source": [
    "primes: [1, 3, 5, 7, 2]\n",
    "odds: [1, 3, 5, 7]"
   ]
  },
  {
   "cell_type": "markdown",
   "metadata": {},
   "source": [
    "{: .output}\n",
    "\n",
    "This is different from how variables worked in lesson 1, and more similar to how a spreadsheet works.\n",
    "\n",
    "> ## Turn a String Into a List\n",
    ">\n",
    "> Use a for-loop to convert the string \"hello\" into a list of letters:\n",
    ">\n",
    "> ~~~\n",
    "> [\"h\", \"e\", \"l\", \"l\", \"o\"]\n",
    "> ~~~\n",
    "> {: .python}\n",
    ">\n",
    "> Hint: You can create an empty list like this:\n",
    ">\n",
    "> ~~~\n",
    "> my_list = []\n",
    "> ~~~\n",
    "> {: .python}\n",
    ">\n",
    "> > ## Solution\n",
    "> > ~~~\n",
    "> > my_list = []\n",
    "> > for char in \"hello\":\n",
    "> >     my_list.append(char)\n",
    "> > print(my_list)\n",
    "> > ~~~\n",
    "> > {: .python}\n",
    "> {: .solution}\n",
    "{: .challenge}\n",
    "\n",
    "Subsets of lists and strings can be accessed by specifying ranges of values in brackets,\n",
    "similar to how we accessed ranges of positions in a Numpy array.\n",
    "This is commonly referred to as \"slicing\" the list/string."
   ]
  },
  {
   "cell_type": "code",
   "execution_count": null,
   "metadata": {},
   "outputs": [],
   "source": [
    "binomial_name = \"Drosophila melanogaster\"\n",
    "group = binomial_name[0:10]\n",
    "print(\"group:\", group)\n",
    "\n",
    "species = binomial_name[11:24]\n",
    "print(\"species:\", species)\n",
    "\n",
    "chromosomes = [\"X\", \"Y\", \"2\", \"3\", \"4\"]\n",
    "autosomes = chromosomes[2:5]\n",
    "print(\"autosomes:\", autosomes)\n",
    "\n",
    "last = chromosomes[-1]\n",
    "print(\"last:\", last)"
   ]
  },
  {
   "cell_type": "markdown",
   "metadata": {},
   "source": [
    "{: .python}"
   ]
  },
  {
   "cell_type": "code",
   "execution_count": null,
   "metadata": {},
   "outputs": [],
   "source": [
    "group: Drosophila\n",
    "species: melanogaster\n",
    "autosomes: [\"2\", \"3\", \"4\"]\n",
    "last: 4"
   ]
  },
  {
   "cell_type": "markdown",
   "metadata": {},
   "source": [
    "{: .output}\n",
    "\n",
    "> ## Slicing From the End\n",
    ">\n",
    "> Use slicing to access only the last four characters of a string or entries of a list.\n",
    ">\n",
    "> ~~~\n",
    "> string_for_slicing = \"Observation date: 02-Feb-2013\"\n",
    "> list_for_slicing = [[\"fluorine\", \"F\"], [\"chlorine\", \"Cl\"], [\"bromine\", \"Br\"], [\"iodine\", \"I\"], [\"astatine\", \"At\"]]\n",
    "> ~~~\n",
    "> {: .python}\n",
    ">\n",
    "> ~~~\n",
    "> \"2013\"\n",
    "> [[\"chlorine\", \"Cl\"], [\"bromine\", \"Br\"], [\"iodine\", \"I\"], [\"astatine\", \"At\"]]\n",
    "> ~~~\n",
    "> {: .output}\n",
    ">\n",
    "> Would your solution work regardless of whether you knew beforehand\n",
    "> the length of the string or list\n",
    "> (e.g. if you wanted to apply the solution to a set of lists of different lengths)?\n",
    "> If not, try to change your approach to make it more robust.\n",
    ">\n",
    "> > ## Solution\n",
    "> > Use negative indices to count elements from the end of a container (such as list or string):\n",
    "> >\n",
    "> > ~~~\n",
    "> > string_for_slicing[-4:]\n",
    "> > list_for_slicing[-4:]\n",
    "> > ~~~\n",
    "> > {: .python}\n",
    "> {: .solution}\n",
    "{: .challenge}\n",
    "\n",
    "> ## Non-Continuous Slices\n",
    ">\n",
    "> So far we've seen how to use slicing to take single blocks\n",
    "> of successive entries from a sequence.\n",
    "> But what if we want to take a subset of entries\n",
    "> that aren't next to each other in the sequence?\n",
    ">\n",
    "> You can achieve this by providing a third argument\n",
    "> to the range within the brackets, called the _step size_.\n",
    "> The example below shows how you can take every third entry in a list:\n",
    ">\n",
    "> ~~~\n",
    "> primes = [2, 3, 5, 7, 11, 13, 17, 19, 23, 29, 31, 37]\n",
    "> subset = primes[0:12:3]\n",
    "> print(\"subset\", subset)\n",
    "> ~~~\n",
    "> {: .python}\n",
    ">\n",
    "> ~~~\n",
    "> subset [2, 7, 17, 29]\n",
    "> ~~~\n",
    "> {: .output}\n",
    ">\n",
    "> Notice that the slice taken begins with the first entry in the range,\n",
    "> followed by entries taken at equally-spaced intervals (the steps) thereafter.\n",
    "> If you wanted to begin the subset with the third entry,\n",
    "> you would need to specify that as the starting point of the sliced range:\n",
    ">\n",
    "> ~~~\n",
    "> primes = [2, 3, 5, 7, 11, 13, 17, 19, 23, 29, 31, 37]\n",
    "> subset = primes[2:12:3]\n",
    "> print(\"subset\", subset)\n",
    "> ~~~\n",
    "> {: .python}\n",
    ">\n",
    "> ~~~\n",
    "> subset [5, 13, 23, 37]\n",
    "> ~~~\n",
    "> {: .output}\n",
    ">\n",
    "> Use the step size argument to create a new string\n",
    "> that contains only every other character in the string\n",
    "> \"In an octopus's garden in the shade\"\n",
    ">\n",
    "> ~~~\n",
    "> beatles = \"In an octopus's garden in the shade\"\n",
    "> ~~~\n",
    "> {: .python}\n",
    ">\n",
    "> ~~~\n",
    "> I notpssgre ntesae\n",
    "> ~~~\n",
    "> {: .output}\n",
    ">\n",
    "> > ## Solution\n",
    "> > To obtain every other character you need to provide a slice with the step\n",
    "> > size of 2:\n",
    "> >\n",
    "> > ~~~\n",
    "> > beatles[0:35:2]\n",
    "> > ~~~\n",
    "> > {: .python}\n",
    "> >\n",
    "> > You can also leave out the beginning and end of the slice to take the whole string\n",
    "> > and provide only the step argument to go every second\n",
    "> > element:\n",
    "> >\n",
    "> > ~~~\n",
    "> > beatles[::2]\n",
    "> > ~~~\n",
    "> > {: .python}\n",
    "> {: .solution}\n",
    "{: .challenge}\n",
    "\n",
    "If you want to take a slice from the beginning of a sequence, you can omit the first index in the range:"
   ]
  },
  {
   "cell_type": "code",
   "execution_count": null,
   "metadata": {},
   "outputs": [],
   "source": [
    "date = \"Monday 4 January 2016\"\n",
    "day = date[0:6]\n",
    "print(\"Using 0 to begin range:\", day)\n",
    "day = date[:6]\n",
    "print(\"Omitting beginning index:\", day)"
   ]
  },
  {
   "cell_type": "markdown",
   "metadata": {},
   "source": [
    "{: .python}"
   ]
  },
  {
   "cell_type": "code",
   "execution_count": null,
   "metadata": {},
   "outputs": [],
   "source": [
    "Using 0 to begin range: Monday\n",
    "Omitting beginning index: Monday"
   ]
  },
  {
   "cell_type": "markdown",
   "metadata": {},
   "source": [
    "{: .output}\n",
    "\n",
    "And similarly, you can omit the ending index in the range to take a slice to the very end of the sequence:"
   ]
  },
  {
   "cell_type": "code",
   "execution_count": null,
   "metadata": {},
   "outputs": [],
   "source": [
    "months = [\"jan\", \"feb\", \"mar\", \"apr\", \"may\", \"jun\", \"jul\", \"aug\", \"sep\", \"oct\", \"nov\", \"dec\"]\n",
    "sond = months[8:12]\n",
    "print(\"With known last position:\", sond)\n",
    "sond = months[8:len(months)]\n",
    "print(\"Using len() to get last entry:\", sond)\n",
    "sond = months[8:]\n",
    "(\"Omitting ending index:\", sond)"
   ]
  },
  {
   "cell_type": "markdown",
   "metadata": {},
   "source": [
    "{: .python}"
   ]
  },
  {
   "cell_type": "code",
   "execution_count": null,
   "metadata": {},
   "outputs": [],
   "source": [
    "With known last position: [\"sep\", \"oct\", \"nov\", \"dec\"]\n",
    "Using len() to get last entry: [\"sep\", \"oct\", \"nov\", \"dec\"]\n",
    "Omitting ending index: [\"sep\", \"oct\", \"nov\", \"dec\"]"
   ]
  },
  {
   "cell_type": "markdown",
   "metadata": {},
   "source": [
    "{: .output}\n",
    "\n",
    "> ## Swapping the contents of variables\n",
    ">\n",
    "> Explain what the overall effect of this code is:\n",
    ">\n",
    "> ~~~\n",
    "> left = 'L'\n",
    "> right = 'R'\n",
    ">\n",
    "> temp = left\n",
    "> left = right\n",
    "> right = temp\n",
    "> ~~~\n",
    "> {: .python}\n",
    ">\n",
    "> Compare it to:\n",
    ">\n",
    "> ~~~\n",
    "> left, right = [right, left]\n",
    "> ~~~\n",
    "> {: .python}\n",
    ">\n",
    "> Do they always do the same thing?\n",
    "> Which do you find easier to read?\n",
    ">\n",
    "> > ## Solution\n",
    "> > Both examples exchange the values of `left` and `right`:\n",
    "> >\n",
    "> > ~~~\n",
    "> > print(left, right)\n",
    "> > ~~~\n",
    "> > {: .python}\n",
    "> >\n",
    "> > ~~~\n",
    "> > R L\n",
    "> > ~~~\n",
    "> > {: .output}\n",
    "> >\n",
    "> >In the first case we used a temporary variable `temp` to keep the value of `left` before we overwrite it with the value of `right`. In the second case, `right` and `left` are packed into a list and then unpacked into `left` and `right`.\n",
    "> {: .solution}\n",
    "{: .challenge}\n",
    "\n",
    "> ## Overloading\n",
    ">\n",
    "> `+` usually means addition, but when used on strings or lists, it means \"concatenate\".\n",
    "> Given that, what do you think the multiplication operator `*` does on lists?\n",
    "> In particular, what will be the output of the following code?\n",
    ">\n",
    "> ~~~\n",
    "> counts = [2, 4, 6, 8, 10]\n",
    "> repeats = counts * 2\n",
    "> print(repeats)\n",
    "> ~~~\n",
    "> {: .python}\n",
    ">\n",
    "> 1.  `[2, 4, 6, 8, 10, 2, 4, 6, 8, 10]`\n",
    "> 2.  `[4, 8, 12, 16, 20]`\n",
    "> 3.  `[[2, 4, 6, 8, 10],[2, 4, 6, 8, 10]]`\n",
    "> 4.  `[2, 4, 6, 8, 10, 4, 8, 12, 16, 20]`\n",
    ">\n",
    "> The technical term for this is *operator overloading*:\n",
    "> a single operator, like `+` or `*`,\n",
    "> can do different things depending on what it's applied to.\n",
    ">\n",
    "> > ## Solution\n",
    "> >\n",
    "> > The multiplication operator `*` used on a list replicates elements of the list and concatenates them together:\n",
    "> >\n",
    "> > ~~~\n",
    "> > [2, 4, 6, 8, 10, 2, 4, 6, 8, 10]\n",
    "> > ~~~\n",
    "> > {: .output}\n",
    "> >\n",
    "> > It's equivalent to:\n",
    "> >\n",
    "> > ~~~\n",
    "> > counts + counts\n",
    "> > ~~~\n",
    "> > {: .python}\n",
    "> {: .solution}\n",
    "{: .challenge}"
   ]
  }
 ],
 "metadata": {},
 "nbformat": 4,
 "nbformat_minor": 2
}
